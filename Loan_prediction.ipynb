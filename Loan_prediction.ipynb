{
  "nbformat": 4,
  "nbformat_minor": 0,
  "metadata": {
    "colab": {
      "provenance": [],
      "mount_file_id": "1_huP0O9d7mdmx4gaN37lATnQcqyMSgiU",
      "authorship_tag": "ABX9TyNX+JkSKgqLgBHIIKGHT2NO",
      "include_colab_link": true
    },
    "kernelspec": {
      "name": "python3",
      "display_name": "Python 3"
    },
    "language_info": {
      "name": "python"
    }
  },
  "cells": [
    {
      "cell_type": "markdown",
      "metadata": {
        "id": "view-in-github",
        "colab_type": "text"
      },
      "source": [
        "<a href=\"https://colab.research.google.com/github/Hasifa1/Loan_Prediction_Task1/blob/main/Loan_prediction.ipynb\" target=\"_parent\"><img src=\"https://colab.research.google.com/assets/colab-badge.svg\" alt=\"Open In Colab\"/></a>"
      ]
    },
    {
      "cell_type": "code",
      "execution_count": 43,
      "metadata": {
        "id": "DVfynayntrof"
      },
      "outputs": [],
      "source": [
        "import pandas as pd"
      ]
    },
    {
      "cell_type": "code",
      "source": [
        "df=pd.read_csv('/content/drive/MyDrive/Loan_Data.csv')"
      ],
      "metadata": {
        "id": "4Zo8S5KQuDkK"
      },
      "execution_count": 44,
      "outputs": []
    },
    {
      "cell_type": "code",
      "source": [
        "df.head()"
      ],
      "metadata": {
        "colab": {
          "base_uri": "https://localhost:8080/",
          "height": 287
        },
        "id": "iOZseC2ZvXsA",
        "outputId": "fe618b5a-32da-48b6-afc7-4a5ff6951d9e"
      },
      "execution_count": 45,
      "outputs": [
        {
          "output_type": "execute_result",
          "data": {
            "text/plain": [
              "    Loan_ID Gender Married Dependents     Education Self_Employed  \\\n",
              "0  LP001002   Male      No          0      Graduate            No   \n",
              "1  LP001003   Male     Yes          1      Graduate            No   \n",
              "2  LP001005   Male     Yes          0      Graduate           Yes   \n",
              "3  LP001006   Male     Yes          0  Not Graduate            No   \n",
              "4  LP001008   Male      No          0      Graduate            No   \n",
              "\n",
              "   ApplicantIncome  CoapplicantIncome  LoanAmount  Loan_Amount_Term  \\\n",
              "0             5849                0.0         NaN             360.0   \n",
              "1             4583             1508.0       128.0             360.0   \n",
              "2             3000                0.0        66.0             360.0   \n",
              "3             2583             2358.0       120.0             360.0   \n",
              "4             6000                0.0       141.0             360.0   \n",
              "\n",
              "   Credit_History Property_Area Loan_Status  \n",
              "0             1.0         Urban           Y  \n",
              "1             1.0         Rural           N  \n",
              "2             1.0         Urban           Y  \n",
              "3             1.0         Urban           Y  \n",
              "4             1.0         Urban           Y  "
            ],
            "text/html": [
              "\n",
              "  <div id=\"df-c562e210-5211-402b-90b9-2633737c598e\">\n",
              "    <div class=\"colab-df-container\">\n",
              "      <div>\n",
              "<style scoped>\n",
              "    .dataframe tbody tr th:only-of-type {\n",
              "        vertical-align: middle;\n",
              "    }\n",
              "\n",
              "    .dataframe tbody tr th {\n",
              "        vertical-align: top;\n",
              "    }\n",
              "\n",
              "    .dataframe thead th {\n",
              "        text-align: right;\n",
              "    }\n",
              "</style>\n",
              "<table border=\"1\" class=\"dataframe\">\n",
              "  <thead>\n",
              "    <tr style=\"text-align: right;\">\n",
              "      <th></th>\n",
              "      <th>Loan_ID</th>\n",
              "      <th>Gender</th>\n",
              "      <th>Married</th>\n",
              "      <th>Dependents</th>\n",
              "      <th>Education</th>\n",
              "      <th>Self_Employed</th>\n",
              "      <th>ApplicantIncome</th>\n",
              "      <th>CoapplicantIncome</th>\n",
              "      <th>LoanAmount</th>\n",
              "      <th>Loan_Amount_Term</th>\n",
              "      <th>Credit_History</th>\n",
              "      <th>Property_Area</th>\n",
              "      <th>Loan_Status</th>\n",
              "    </tr>\n",
              "  </thead>\n",
              "  <tbody>\n",
              "    <tr>\n",
              "      <th>0</th>\n",
              "      <td>LP001002</td>\n",
              "      <td>Male</td>\n",
              "      <td>No</td>\n",
              "      <td>0</td>\n",
              "      <td>Graduate</td>\n",
              "      <td>No</td>\n",
              "      <td>5849</td>\n",
              "      <td>0.0</td>\n",
              "      <td>NaN</td>\n",
              "      <td>360.0</td>\n",
              "      <td>1.0</td>\n",
              "      <td>Urban</td>\n",
              "      <td>Y</td>\n",
              "    </tr>\n",
              "    <tr>\n",
              "      <th>1</th>\n",
              "      <td>LP001003</td>\n",
              "      <td>Male</td>\n",
              "      <td>Yes</td>\n",
              "      <td>1</td>\n",
              "      <td>Graduate</td>\n",
              "      <td>No</td>\n",
              "      <td>4583</td>\n",
              "      <td>1508.0</td>\n",
              "      <td>128.0</td>\n",
              "      <td>360.0</td>\n",
              "      <td>1.0</td>\n",
              "      <td>Rural</td>\n",
              "      <td>N</td>\n",
              "    </tr>\n",
              "    <tr>\n",
              "      <th>2</th>\n",
              "      <td>LP001005</td>\n",
              "      <td>Male</td>\n",
              "      <td>Yes</td>\n",
              "      <td>0</td>\n",
              "      <td>Graduate</td>\n",
              "      <td>Yes</td>\n",
              "      <td>3000</td>\n",
              "      <td>0.0</td>\n",
              "      <td>66.0</td>\n",
              "      <td>360.0</td>\n",
              "      <td>1.0</td>\n",
              "      <td>Urban</td>\n",
              "      <td>Y</td>\n",
              "    </tr>\n",
              "    <tr>\n",
              "      <th>3</th>\n",
              "      <td>LP001006</td>\n",
              "      <td>Male</td>\n",
              "      <td>Yes</td>\n",
              "      <td>0</td>\n",
              "      <td>Not Graduate</td>\n",
              "      <td>No</td>\n",
              "      <td>2583</td>\n",
              "      <td>2358.0</td>\n",
              "      <td>120.0</td>\n",
              "      <td>360.0</td>\n",
              "      <td>1.0</td>\n",
              "      <td>Urban</td>\n",
              "      <td>Y</td>\n",
              "    </tr>\n",
              "    <tr>\n",
              "      <th>4</th>\n",
              "      <td>LP001008</td>\n",
              "      <td>Male</td>\n",
              "      <td>No</td>\n",
              "      <td>0</td>\n",
              "      <td>Graduate</td>\n",
              "      <td>No</td>\n",
              "      <td>6000</td>\n",
              "      <td>0.0</td>\n",
              "      <td>141.0</td>\n",
              "      <td>360.0</td>\n",
              "      <td>1.0</td>\n",
              "      <td>Urban</td>\n",
              "      <td>Y</td>\n",
              "    </tr>\n",
              "  </tbody>\n",
              "</table>\n",
              "</div>\n",
              "      <button class=\"colab-df-convert\" onclick=\"convertToInteractive('df-c562e210-5211-402b-90b9-2633737c598e')\"\n",
              "              title=\"Convert this dataframe to an interactive table.\"\n",
              "              style=\"display:none;\">\n",
              "        \n",
              "  <svg xmlns=\"http://www.w3.org/2000/svg\" height=\"24px\"viewBox=\"0 0 24 24\"\n",
              "       width=\"24px\">\n",
              "    <path d=\"M0 0h24v24H0V0z\" fill=\"none\"/>\n",
              "    <path d=\"M18.56 5.44l.94 2.06.94-2.06 2.06-.94-2.06-.94-.94-2.06-.94 2.06-2.06.94zm-11 1L8.5 8.5l.94-2.06 2.06-.94-2.06-.94L8.5 2.5l-.94 2.06-2.06.94zm10 10l.94 2.06.94-2.06 2.06-.94-2.06-.94-.94-2.06-.94 2.06-2.06.94z\"/><path d=\"M17.41 7.96l-1.37-1.37c-.4-.4-.92-.59-1.43-.59-.52 0-1.04.2-1.43.59L10.3 9.45l-7.72 7.72c-.78.78-.78 2.05 0 2.83L4 21.41c.39.39.9.59 1.41.59.51 0 1.02-.2 1.41-.59l7.78-7.78 2.81-2.81c.8-.78.8-2.07 0-2.86zM5.41 20L4 18.59l7.72-7.72 1.47 1.35L5.41 20z\"/>\n",
              "  </svg>\n",
              "      </button>\n",
              "      \n",
              "  <style>\n",
              "    .colab-df-container {\n",
              "      display:flex;\n",
              "      flex-wrap:wrap;\n",
              "      gap: 12px;\n",
              "    }\n",
              "\n",
              "    .colab-df-convert {\n",
              "      background-color: #E8F0FE;\n",
              "      border: none;\n",
              "      border-radius: 50%;\n",
              "      cursor: pointer;\n",
              "      display: none;\n",
              "      fill: #1967D2;\n",
              "      height: 32px;\n",
              "      padding: 0 0 0 0;\n",
              "      width: 32px;\n",
              "    }\n",
              "\n",
              "    .colab-df-convert:hover {\n",
              "      background-color: #E2EBFA;\n",
              "      box-shadow: 0px 1px 2px rgba(60, 64, 67, 0.3), 0px 1px 3px 1px rgba(60, 64, 67, 0.15);\n",
              "      fill: #174EA6;\n",
              "    }\n",
              "\n",
              "    [theme=dark] .colab-df-convert {\n",
              "      background-color: #3B4455;\n",
              "      fill: #D2E3FC;\n",
              "    }\n",
              "\n",
              "    [theme=dark] .colab-df-convert:hover {\n",
              "      background-color: #434B5C;\n",
              "      box-shadow: 0px 1px 3px 1px rgba(0, 0, 0, 0.15);\n",
              "      filter: drop-shadow(0px 1px 2px rgba(0, 0, 0, 0.3));\n",
              "      fill: #FFFFFF;\n",
              "    }\n",
              "  </style>\n",
              "\n",
              "      <script>\n",
              "        const buttonEl =\n",
              "          document.querySelector('#df-c562e210-5211-402b-90b9-2633737c598e button.colab-df-convert');\n",
              "        buttonEl.style.display =\n",
              "          google.colab.kernel.accessAllowed ? 'block' : 'none';\n",
              "\n",
              "        async function convertToInteractive(key) {\n",
              "          const element = document.querySelector('#df-c562e210-5211-402b-90b9-2633737c598e');\n",
              "          const dataTable =\n",
              "            await google.colab.kernel.invokeFunction('convertToInteractive',\n",
              "                                                     [key], {});\n",
              "          if (!dataTable) return;\n",
              "\n",
              "          const docLinkHtml = 'Like what you see? Visit the ' +\n",
              "            '<a target=\"_blank\" href=https://colab.research.google.com/notebooks/data_table.ipynb>data table notebook</a>'\n",
              "            + ' to learn more about interactive tables.';\n",
              "          element.innerHTML = '';\n",
              "          dataTable['output_type'] = 'display_data';\n",
              "          await google.colab.output.renderOutput(dataTable, element);\n",
              "          const docLink = document.createElement('div');\n",
              "          docLink.innerHTML = docLinkHtml;\n",
              "          element.appendChild(docLink);\n",
              "        }\n",
              "      </script>\n",
              "    </div>\n",
              "  </div>\n",
              "  "
            ]
          },
          "metadata": {},
          "execution_count": 45
        }
      ]
    },
    {
      "cell_type": "code",
      "source": [
        "df.tail()"
      ],
      "metadata": {
        "colab": {
          "base_uri": "https://localhost:8080/",
          "height": 270
        },
        "id": "16CySRvBvZO0",
        "outputId": "7faed6fe-5ea4-45c2-eae5-333ae21ad016"
      },
      "execution_count": 46,
      "outputs": [
        {
          "output_type": "execute_result",
          "data": {
            "text/plain": [
              "      Loan_ID  Gender Married Dependents Education Self_Employed  \\\n",
              "609  LP002978  Female      No          0  Graduate            No   \n",
              "610  LP002979    Male     Yes         3+  Graduate            No   \n",
              "611  LP002983    Male     Yes          1  Graduate            No   \n",
              "612  LP002984    Male     Yes          2  Graduate            No   \n",
              "613  LP002990  Female      No          0  Graduate           Yes   \n",
              "\n",
              "     ApplicantIncome  CoapplicantIncome  LoanAmount  Loan_Amount_Term  \\\n",
              "609             2900                0.0        71.0             360.0   \n",
              "610             4106                0.0        40.0             180.0   \n",
              "611             8072              240.0       253.0             360.0   \n",
              "612             7583                0.0       187.0             360.0   \n",
              "613             4583                0.0       133.0             360.0   \n",
              "\n",
              "     Credit_History Property_Area Loan_Status  \n",
              "609             1.0         Rural           Y  \n",
              "610             1.0         Rural           Y  \n",
              "611             1.0         Urban           Y  \n",
              "612             1.0         Urban           Y  \n",
              "613             0.0     Semiurban           N  "
            ],
            "text/html": [
              "\n",
              "  <div id=\"df-66a245e2-9e2d-4f4c-b732-bbf12e2b1e53\">\n",
              "    <div class=\"colab-df-container\">\n",
              "      <div>\n",
              "<style scoped>\n",
              "    .dataframe tbody tr th:only-of-type {\n",
              "        vertical-align: middle;\n",
              "    }\n",
              "\n",
              "    .dataframe tbody tr th {\n",
              "        vertical-align: top;\n",
              "    }\n",
              "\n",
              "    .dataframe thead th {\n",
              "        text-align: right;\n",
              "    }\n",
              "</style>\n",
              "<table border=\"1\" class=\"dataframe\">\n",
              "  <thead>\n",
              "    <tr style=\"text-align: right;\">\n",
              "      <th></th>\n",
              "      <th>Loan_ID</th>\n",
              "      <th>Gender</th>\n",
              "      <th>Married</th>\n",
              "      <th>Dependents</th>\n",
              "      <th>Education</th>\n",
              "      <th>Self_Employed</th>\n",
              "      <th>ApplicantIncome</th>\n",
              "      <th>CoapplicantIncome</th>\n",
              "      <th>LoanAmount</th>\n",
              "      <th>Loan_Amount_Term</th>\n",
              "      <th>Credit_History</th>\n",
              "      <th>Property_Area</th>\n",
              "      <th>Loan_Status</th>\n",
              "    </tr>\n",
              "  </thead>\n",
              "  <tbody>\n",
              "    <tr>\n",
              "      <th>609</th>\n",
              "      <td>LP002978</td>\n",
              "      <td>Female</td>\n",
              "      <td>No</td>\n",
              "      <td>0</td>\n",
              "      <td>Graduate</td>\n",
              "      <td>No</td>\n",
              "      <td>2900</td>\n",
              "      <td>0.0</td>\n",
              "      <td>71.0</td>\n",
              "      <td>360.0</td>\n",
              "      <td>1.0</td>\n",
              "      <td>Rural</td>\n",
              "      <td>Y</td>\n",
              "    </tr>\n",
              "    <tr>\n",
              "      <th>610</th>\n",
              "      <td>LP002979</td>\n",
              "      <td>Male</td>\n",
              "      <td>Yes</td>\n",
              "      <td>3+</td>\n",
              "      <td>Graduate</td>\n",
              "      <td>No</td>\n",
              "      <td>4106</td>\n",
              "      <td>0.0</td>\n",
              "      <td>40.0</td>\n",
              "      <td>180.0</td>\n",
              "      <td>1.0</td>\n",
              "      <td>Rural</td>\n",
              "      <td>Y</td>\n",
              "    </tr>\n",
              "    <tr>\n",
              "      <th>611</th>\n",
              "      <td>LP002983</td>\n",
              "      <td>Male</td>\n",
              "      <td>Yes</td>\n",
              "      <td>1</td>\n",
              "      <td>Graduate</td>\n",
              "      <td>No</td>\n",
              "      <td>8072</td>\n",
              "      <td>240.0</td>\n",
              "      <td>253.0</td>\n",
              "      <td>360.0</td>\n",
              "      <td>1.0</td>\n",
              "      <td>Urban</td>\n",
              "      <td>Y</td>\n",
              "    </tr>\n",
              "    <tr>\n",
              "      <th>612</th>\n",
              "      <td>LP002984</td>\n",
              "      <td>Male</td>\n",
              "      <td>Yes</td>\n",
              "      <td>2</td>\n",
              "      <td>Graduate</td>\n",
              "      <td>No</td>\n",
              "      <td>7583</td>\n",
              "      <td>0.0</td>\n",
              "      <td>187.0</td>\n",
              "      <td>360.0</td>\n",
              "      <td>1.0</td>\n",
              "      <td>Urban</td>\n",
              "      <td>Y</td>\n",
              "    </tr>\n",
              "    <tr>\n",
              "      <th>613</th>\n",
              "      <td>LP002990</td>\n",
              "      <td>Female</td>\n",
              "      <td>No</td>\n",
              "      <td>0</td>\n",
              "      <td>Graduate</td>\n",
              "      <td>Yes</td>\n",
              "      <td>4583</td>\n",
              "      <td>0.0</td>\n",
              "      <td>133.0</td>\n",
              "      <td>360.0</td>\n",
              "      <td>0.0</td>\n",
              "      <td>Semiurban</td>\n",
              "      <td>N</td>\n",
              "    </tr>\n",
              "  </tbody>\n",
              "</table>\n",
              "</div>\n",
              "      <button class=\"colab-df-convert\" onclick=\"convertToInteractive('df-66a245e2-9e2d-4f4c-b732-bbf12e2b1e53')\"\n",
              "              title=\"Convert this dataframe to an interactive table.\"\n",
              "              style=\"display:none;\">\n",
              "        \n",
              "  <svg xmlns=\"http://www.w3.org/2000/svg\" height=\"24px\"viewBox=\"0 0 24 24\"\n",
              "       width=\"24px\">\n",
              "    <path d=\"M0 0h24v24H0V0z\" fill=\"none\"/>\n",
              "    <path d=\"M18.56 5.44l.94 2.06.94-2.06 2.06-.94-2.06-.94-.94-2.06-.94 2.06-2.06.94zm-11 1L8.5 8.5l.94-2.06 2.06-.94-2.06-.94L8.5 2.5l-.94 2.06-2.06.94zm10 10l.94 2.06.94-2.06 2.06-.94-2.06-.94-.94-2.06-.94 2.06-2.06.94z\"/><path d=\"M17.41 7.96l-1.37-1.37c-.4-.4-.92-.59-1.43-.59-.52 0-1.04.2-1.43.59L10.3 9.45l-7.72 7.72c-.78.78-.78 2.05 0 2.83L4 21.41c.39.39.9.59 1.41.59.51 0 1.02-.2 1.41-.59l7.78-7.78 2.81-2.81c.8-.78.8-2.07 0-2.86zM5.41 20L4 18.59l7.72-7.72 1.47 1.35L5.41 20z\"/>\n",
              "  </svg>\n",
              "      </button>\n",
              "      \n",
              "  <style>\n",
              "    .colab-df-container {\n",
              "      display:flex;\n",
              "      flex-wrap:wrap;\n",
              "      gap: 12px;\n",
              "    }\n",
              "\n",
              "    .colab-df-convert {\n",
              "      background-color: #E8F0FE;\n",
              "      border: none;\n",
              "      border-radius: 50%;\n",
              "      cursor: pointer;\n",
              "      display: none;\n",
              "      fill: #1967D2;\n",
              "      height: 32px;\n",
              "      padding: 0 0 0 0;\n",
              "      width: 32px;\n",
              "    }\n",
              "\n",
              "    .colab-df-convert:hover {\n",
              "      background-color: #E2EBFA;\n",
              "      box-shadow: 0px 1px 2px rgba(60, 64, 67, 0.3), 0px 1px 3px 1px rgba(60, 64, 67, 0.15);\n",
              "      fill: #174EA6;\n",
              "    }\n",
              "\n",
              "    [theme=dark] .colab-df-convert {\n",
              "      background-color: #3B4455;\n",
              "      fill: #D2E3FC;\n",
              "    }\n",
              "\n",
              "    [theme=dark] .colab-df-convert:hover {\n",
              "      background-color: #434B5C;\n",
              "      box-shadow: 0px 1px 3px 1px rgba(0, 0, 0, 0.15);\n",
              "      filter: drop-shadow(0px 1px 2px rgba(0, 0, 0, 0.3));\n",
              "      fill: #FFFFFF;\n",
              "    }\n",
              "  </style>\n",
              "\n",
              "      <script>\n",
              "        const buttonEl =\n",
              "          document.querySelector('#df-66a245e2-9e2d-4f4c-b732-bbf12e2b1e53 button.colab-df-convert');\n",
              "        buttonEl.style.display =\n",
              "          google.colab.kernel.accessAllowed ? 'block' : 'none';\n",
              "\n",
              "        async function convertToInteractive(key) {\n",
              "          const element = document.querySelector('#df-66a245e2-9e2d-4f4c-b732-bbf12e2b1e53');\n",
              "          const dataTable =\n",
              "            await google.colab.kernel.invokeFunction('convertToInteractive',\n",
              "                                                     [key], {});\n",
              "          if (!dataTable) return;\n",
              "\n",
              "          const docLinkHtml = 'Like what you see? Visit the ' +\n",
              "            '<a target=\"_blank\" href=https://colab.research.google.com/notebooks/data_table.ipynb>data table notebook</a>'\n",
              "            + ' to learn more about interactive tables.';\n",
              "          element.innerHTML = '';\n",
              "          dataTable['output_type'] = 'display_data';\n",
              "          await google.colab.output.renderOutput(dataTable, element);\n",
              "          const docLink = document.createElement('div');\n",
              "          docLink.innerHTML = docLinkHtml;\n",
              "          element.appendChild(docLink);\n",
              "        }\n",
              "      </script>\n",
              "    </div>\n",
              "  </div>\n",
              "  "
            ]
          },
          "metadata": {},
          "execution_count": 46
        }
      ]
    },
    {
      "cell_type": "code",
      "source": [
        "df.info()"
      ],
      "metadata": {
        "colab": {
          "base_uri": "https://localhost:8080/"
        },
        "id": "QOLxrI0dvaol",
        "outputId": "c454b399-875a-491b-d8d1-5881a8d314e5"
      },
      "execution_count": 47,
      "outputs": [
        {
          "output_type": "stream",
          "name": "stdout",
          "text": [
            "<class 'pandas.core.frame.DataFrame'>\n",
            "RangeIndex: 614 entries, 0 to 613\n",
            "Data columns (total 13 columns):\n",
            " #   Column             Non-Null Count  Dtype  \n",
            "---  ------             --------------  -----  \n",
            " 0   Loan_ID            614 non-null    object \n",
            " 1   Gender             601 non-null    object \n",
            " 2   Married            611 non-null    object \n",
            " 3   Dependents         599 non-null    object \n",
            " 4   Education          614 non-null    object \n",
            " 5   Self_Employed      582 non-null    object \n",
            " 6   ApplicantIncome    614 non-null    int64  \n",
            " 7   CoapplicantIncome  614 non-null    float64\n",
            " 8   LoanAmount         592 non-null    float64\n",
            " 9   Loan_Amount_Term   600 non-null    float64\n",
            " 10  Credit_History     564 non-null    float64\n",
            " 11  Property_Area      614 non-null    object \n",
            " 12  Loan_Status        614 non-null    object \n",
            "dtypes: float64(4), int64(1), object(8)\n",
            "memory usage: 62.5+ KB\n"
          ]
        }
      ]
    },
    {
      "cell_type": "code",
      "source": [
        "df.isnull().sum()"
      ],
      "metadata": {
        "colab": {
          "base_uri": "https://localhost:8080/"
        },
        "id": "tEXxoXosveAC",
        "outputId": "186b5874-b830-4fd6-e9d6-f1dbc351b215"
      },
      "execution_count": 48,
      "outputs": [
        {
          "output_type": "execute_result",
          "data": {
            "text/plain": [
              "Loan_ID               0\n",
              "Gender               13\n",
              "Married               3\n",
              "Dependents           15\n",
              "Education             0\n",
              "Self_Employed        32\n",
              "ApplicantIncome       0\n",
              "CoapplicantIncome     0\n",
              "LoanAmount           22\n",
              "Loan_Amount_Term     14\n",
              "Credit_History       50\n",
              "Property_Area         0\n",
              "Loan_Status           0\n",
              "dtype: int64"
            ]
          },
          "metadata": {},
          "execution_count": 48
        }
      ]
    },
    {
      "cell_type": "code",
      "source": [
        "df=df.drop(['Loan_ID'],axis=1)"
      ],
      "metadata": {
        "id": "Op-jOEaZd_EX"
      },
      "execution_count": 49,
      "outputs": []
    },
    {
      "cell_type": "code",
      "source": [
        "df=df.drop(['Gender'],axis=1)"
      ],
      "metadata": {
        "id": "4ZM_U7d_vqdY"
      },
      "execution_count": 50,
      "outputs": []
    },
    {
      "cell_type": "code",
      "source": [
        "df.shape"
      ],
      "metadata": {
        "colab": {
          "base_uri": "https://localhost:8080/"
        },
        "id": "6abSiBFnv0da",
        "outputId": "8270b3ef-828e-4ee9-bd39-17b62b2d4a00"
      },
      "execution_count": 51,
      "outputs": [
        {
          "output_type": "execute_result",
          "data": {
            "text/plain": [
              "(614, 11)"
            ]
          },
          "metadata": {},
          "execution_count": 51
        }
      ]
    },
    {
      "cell_type": "code",
      "source": [
        "df.describe()"
      ],
      "metadata": {
        "colab": {
          "base_uri": "https://localhost:8080/",
          "height": 300
        },
        "id": "JKYdO52Jv_Wh",
        "outputId": "b9c19cab-0a21-4282-fecc-0a6446123f22"
      },
      "execution_count": 52,
      "outputs": [
        {
          "output_type": "execute_result",
          "data": {
            "text/plain": [
              "       ApplicantIncome  CoapplicantIncome  LoanAmount  Loan_Amount_Term  \\\n",
              "count       614.000000         614.000000  592.000000         600.00000   \n",
              "mean       5403.459283        1621.245798  146.412162         342.00000   \n",
              "std        6109.041673        2926.248369   85.587325          65.12041   \n",
              "min         150.000000           0.000000    9.000000          12.00000   \n",
              "25%        2877.500000           0.000000  100.000000         360.00000   \n",
              "50%        3812.500000        1188.500000  128.000000         360.00000   \n",
              "75%        5795.000000        2297.250000  168.000000         360.00000   \n",
              "max       81000.000000       41667.000000  700.000000         480.00000   \n",
              "\n",
              "       Credit_History  \n",
              "count      564.000000  \n",
              "mean         0.842199  \n",
              "std          0.364878  \n",
              "min          0.000000  \n",
              "25%          1.000000  \n",
              "50%          1.000000  \n",
              "75%          1.000000  \n",
              "max          1.000000  "
            ],
            "text/html": [
              "\n",
              "  <div id=\"df-407a8d5e-0280-432b-a14d-228bc6acf241\">\n",
              "    <div class=\"colab-df-container\">\n",
              "      <div>\n",
              "<style scoped>\n",
              "    .dataframe tbody tr th:only-of-type {\n",
              "        vertical-align: middle;\n",
              "    }\n",
              "\n",
              "    .dataframe tbody tr th {\n",
              "        vertical-align: top;\n",
              "    }\n",
              "\n",
              "    .dataframe thead th {\n",
              "        text-align: right;\n",
              "    }\n",
              "</style>\n",
              "<table border=\"1\" class=\"dataframe\">\n",
              "  <thead>\n",
              "    <tr style=\"text-align: right;\">\n",
              "      <th></th>\n",
              "      <th>ApplicantIncome</th>\n",
              "      <th>CoapplicantIncome</th>\n",
              "      <th>LoanAmount</th>\n",
              "      <th>Loan_Amount_Term</th>\n",
              "      <th>Credit_History</th>\n",
              "    </tr>\n",
              "  </thead>\n",
              "  <tbody>\n",
              "    <tr>\n",
              "      <th>count</th>\n",
              "      <td>614.000000</td>\n",
              "      <td>614.000000</td>\n",
              "      <td>592.000000</td>\n",
              "      <td>600.00000</td>\n",
              "      <td>564.000000</td>\n",
              "    </tr>\n",
              "    <tr>\n",
              "      <th>mean</th>\n",
              "      <td>5403.459283</td>\n",
              "      <td>1621.245798</td>\n",
              "      <td>146.412162</td>\n",
              "      <td>342.00000</td>\n",
              "      <td>0.842199</td>\n",
              "    </tr>\n",
              "    <tr>\n",
              "      <th>std</th>\n",
              "      <td>6109.041673</td>\n",
              "      <td>2926.248369</td>\n",
              "      <td>85.587325</td>\n",
              "      <td>65.12041</td>\n",
              "      <td>0.364878</td>\n",
              "    </tr>\n",
              "    <tr>\n",
              "      <th>min</th>\n",
              "      <td>150.000000</td>\n",
              "      <td>0.000000</td>\n",
              "      <td>9.000000</td>\n",
              "      <td>12.00000</td>\n",
              "      <td>0.000000</td>\n",
              "    </tr>\n",
              "    <tr>\n",
              "      <th>25%</th>\n",
              "      <td>2877.500000</td>\n",
              "      <td>0.000000</td>\n",
              "      <td>100.000000</td>\n",
              "      <td>360.00000</td>\n",
              "      <td>1.000000</td>\n",
              "    </tr>\n",
              "    <tr>\n",
              "      <th>50%</th>\n",
              "      <td>3812.500000</td>\n",
              "      <td>1188.500000</td>\n",
              "      <td>128.000000</td>\n",
              "      <td>360.00000</td>\n",
              "      <td>1.000000</td>\n",
              "    </tr>\n",
              "    <tr>\n",
              "      <th>75%</th>\n",
              "      <td>5795.000000</td>\n",
              "      <td>2297.250000</td>\n",
              "      <td>168.000000</td>\n",
              "      <td>360.00000</td>\n",
              "      <td>1.000000</td>\n",
              "    </tr>\n",
              "    <tr>\n",
              "      <th>max</th>\n",
              "      <td>81000.000000</td>\n",
              "      <td>41667.000000</td>\n",
              "      <td>700.000000</td>\n",
              "      <td>480.00000</td>\n",
              "      <td>1.000000</td>\n",
              "    </tr>\n",
              "  </tbody>\n",
              "</table>\n",
              "</div>\n",
              "      <button class=\"colab-df-convert\" onclick=\"convertToInteractive('df-407a8d5e-0280-432b-a14d-228bc6acf241')\"\n",
              "              title=\"Convert this dataframe to an interactive table.\"\n",
              "              style=\"display:none;\">\n",
              "        \n",
              "  <svg xmlns=\"http://www.w3.org/2000/svg\" height=\"24px\"viewBox=\"0 0 24 24\"\n",
              "       width=\"24px\">\n",
              "    <path d=\"M0 0h24v24H0V0z\" fill=\"none\"/>\n",
              "    <path d=\"M18.56 5.44l.94 2.06.94-2.06 2.06-.94-2.06-.94-.94-2.06-.94 2.06-2.06.94zm-11 1L8.5 8.5l.94-2.06 2.06-.94-2.06-.94L8.5 2.5l-.94 2.06-2.06.94zm10 10l.94 2.06.94-2.06 2.06-.94-2.06-.94-.94-2.06-.94 2.06-2.06.94z\"/><path d=\"M17.41 7.96l-1.37-1.37c-.4-.4-.92-.59-1.43-.59-.52 0-1.04.2-1.43.59L10.3 9.45l-7.72 7.72c-.78.78-.78 2.05 0 2.83L4 21.41c.39.39.9.59 1.41.59.51 0 1.02-.2 1.41-.59l7.78-7.78 2.81-2.81c.8-.78.8-2.07 0-2.86zM5.41 20L4 18.59l7.72-7.72 1.47 1.35L5.41 20z\"/>\n",
              "  </svg>\n",
              "      </button>\n",
              "      \n",
              "  <style>\n",
              "    .colab-df-container {\n",
              "      display:flex;\n",
              "      flex-wrap:wrap;\n",
              "      gap: 12px;\n",
              "    }\n",
              "\n",
              "    .colab-df-convert {\n",
              "      background-color: #E8F0FE;\n",
              "      border: none;\n",
              "      border-radius: 50%;\n",
              "      cursor: pointer;\n",
              "      display: none;\n",
              "      fill: #1967D2;\n",
              "      height: 32px;\n",
              "      padding: 0 0 0 0;\n",
              "      width: 32px;\n",
              "    }\n",
              "\n",
              "    .colab-df-convert:hover {\n",
              "      background-color: #E2EBFA;\n",
              "      box-shadow: 0px 1px 2px rgba(60, 64, 67, 0.3), 0px 1px 3px 1px rgba(60, 64, 67, 0.15);\n",
              "      fill: #174EA6;\n",
              "    }\n",
              "\n",
              "    [theme=dark] .colab-df-convert {\n",
              "      background-color: #3B4455;\n",
              "      fill: #D2E3FC;\n",
              "    }\n",
              "\n",
              "    [theme=dark] .colab-df-convert:hover {\n",
              "      background-color: #434B5C;\n",
              "      box-shadow: 0px 1px 3px 1px rgba(0, 0, 0, 0.15);\n",
              "      filter: drop-shadow(0px 1px 2px rgba(0, 0, 0, 0.3));\n",
              "      fill: #FFFFFF;\n",
              "    }\n",
              "  </style>\n",
              "\n",
              "      <script>\n",
              "        const buttonEl =\n",
              "          document.querySelector('#df-407a8d5e-0280-432b-a14d-228bc6acf241 button.colab-df-convert');\n",
              "        buttonEl.style.display =\n",
              "          google.colab.kernel.accessAllowed ? 'block' : 'none';\n",
              "\n",
              "        async function convertToInteractive(key) {\n",
              "          const element = document.querySelector('#df-407a8d5e-0280-432b-a14d-228bc6acf241');\n",
              "          const dataTable =\n",
              "            await google.colab.kernel.invokeFunction('convertToInteractive',\n",
              "                                                     [key], {});\n",
              "          if (!dataTable) return;\n",
              "\n",
              "          const docLinkHtml = 'Like what you see? Visit the ' +\n",
              "            '<a target=\"_blank\" href=https://colab.research.google.com/notebooks/data_table.ipynb>data table notebook</a>'\n",
              "            + ' to learn more about interactive tables.';\n",
              "          element.innerHTML = '';\n",
              "          dataTable['output_type'] = 'display_data';\n",
              "          await google.colab.output.renderOutput(dataTable, element);\n",
              "          const docLink = document.createElement('div');\n",
              "          docLink.innerHTML = docLinkHtml;\n",
              "          element.appendChild(docLink);\n",
              "        }\n",
              "      </script>\n",
              "    </div>\n",
              "  </div>\n",
              "  "
            ]
          },
          "metadata": {},
          "execution_count": 52
        }
      ]
    },
    {
      "cell_type": "code",
      "source": [
        "df.isnull().sum()"
      ],
      "metadata": {
        "colab": {
          "base_uri": "https://localhost:8080/"
        },
        "id": "S0_WikDeeLYX",
        "outputId": "1d1e029a-4af4-4ce9-876c-57fb49934c31"
      },
      "execution_count": 53,
      "outputs": [
        {
          "output_type": "execute_result",
          "data": {
            "text/plain": [
              "Married               3\n",
              "Dependents           15\n",
              "Education             0\n",
              "Self_Employed        32\n",
              "ApplicantIncome       0\n",
              "CoapplicantIncome     0\n",
              "LoanAmount           22\n",
              "Loan_Amount_Term     14\n",
              "Credit_History       50\n",
              "Property_Area         0\n",
              "Loan_Status           0\n",
              "dtype: int64"
            ]
          },
          "metadata": {},
          "execution_count": 53
        }
      ]
    },
    {
      "cell_type": "code",
      "source": [
        "import math"
      ],
      "metadata": {
        "id": "aw7YUEHGfSFY"
      },
      "execution_count": 54,
      "outputs": []
    },
    {
      "cell_type": "code",
      "source": [
        "df['Dependents']=df['Dependents'].replace('3+','3')"
      ],
      "metadata": {
        "id": "GQykjWh9Yyxz"
      },
      "execution_count": 55,
      "outputs": []
    },
    {
      "cell_type": "code",
      "source": [
        "mode_dp=df['Dependents'].mode()\n",
        "print(mode_dp)\n",
        "print(type(mode_dp))"
      ],
      "metadata": {
        "colab": {
          "base_uri": "https://localhost:8080/"
        },
        "id": "muiZwbNzS5c9",
        "outputId": "4a385c4d-ff9d-4c65-daaa-628da8f4c9c8"
      },
      "execution_count": 56,
      "outputs": [
        {
          "output_type": "stream",
          "name": "stdout",
          "text": [
            "0    0\n",
            "Name: Dependents, dtype: object\n",
            "<class 'pandas.core.series.Series'>\n"
          ]
        }
      ]
    },
    {
      "cell_type": "code",
      "source": [
        "for i in df['Dependents']:\n",
        "  print(i,type(i))"
      ],
      "metadata": {
        "id": "0CBnPi0Ch4qv",
        "colab": {
          "base_uri": "https://localhost:8080/"
        },
        "outputId": "ef0d9824-2321-4827-8cda-fe1c4870e2c0"
      },
      "execution_count": 57,
      "outputs": [
        {
          "output_type": "stream",
          "name": "stdout",
          "text": [
            "0 <class 'str'>\n",
            "1 <class 'str'>\n",
            "0 <class 'str'>\n",
            "0 <class 'str'>\n",
            "0 <class 'str'>\n",
            "2 <class 'str'>\n",
            "0 <class 'str'>\n",
            "3 <class 'str'>\n",
            "2 <class 'str'>\n",
            "1 <class 'str'>\n",
            "2 <class 'str'>\n",
            "2 <class 'str'>\n",
            "2 <class 'str'>\n",
            "0 <class 'str'>\n",
            "2 <class 'str'>\n",
            "0 <class 'str'>\n",
            "1 <class 'str'>\n",
            "0 <class 'str'>\n",
            "0 <class 'str'>\n",
            "0 <class 'str'>\n",
            "0 <class 'str'>\n",
            "1 <class 'str'>\n",
            "0 <class 'str'>\n",
            "2 <class 'str'>\n",
            "1 <class 'str'>\n",
            "0 <class 'str'>\n",
            "0 <class 'str'>\n",
            "2 <class 'str'>\n",
            "0 <class 'str'>\n",
            "2 <class 'str'>\n",
            "1 <class 'str'>\n",
            "0 <class 'str'>\n",
            "1 <class 'str'>\n",
            "0 <class 'str'>\n",
            "3 <class 'str'>\n",
            "0 <class 'str'>\n",
            "0 <class 'str'>\n",
            "0 <class 'str'>\n",
            "0 <class 'str'>\n",
            "0 <class 'str'>\n",
            "0 <class 'str'>\n",
            "0 <class 'str'>\n",
            "0 <class 'str'>\n",
            "0 <class 'str'>\n",
            "0 <class 'str'>\n",
            "0 <class 'str'>\n",
            "1 <class 'str'>\n",
            "0 <class 'str'>\n",
            "0 <class 'str'>\n",
            "0 <class 'str'>\n",
            "0 <class 'str'>\n",
            "0 <class 'str'>\n",
            "0 <class 'str'>\n",
            "2 <class 'str'>\n",
            "1 <class 'str'>\n",
            "2 <class 'str'>\n",
            "0 <class 'str'>\n",
            "0 <class 'str'>\n",
            "1 <class 'str'>\n",
            "2 <class 'str'>\n",
            "0 <class 'str'>\n",
            "3 <class 'str'>\n",
            "0 <class 'str'>\n",
            "1 <class 'str'>\n",
            "0 <class 'str'>\n",
            "0 <class 'str'>\n",
            "0 <class 'str'>\n",
            "1 <class 'str'>\n",
            "3 <class 'str'>\n",
            "0 <class 'str'>\n",
            "0 <class 'str'>\n",
            "2 <class 'str'>\n",
            "0 <class 'str'>\n",
            "3 <class 'str'>\n",
            "3 <class 'str'>\n",
            "0 <class 'str'>\n",
            "0 <class 'str'>\n",
            "1 <class 'str'>\n",
            "3 <class 'str'>\n",
            "3 <class 'str'>\n",
            "0 <class 'str'>\n",
            "1 <class 'str'>\n",
            "2 <class 'str'>\n",
            "0 <class 'str'>\n",
            "1 <class 'str'>\n",
            "0 <class 'str'>\n",
            "2 <class 'str'>\n",
            "0 <class 'str'>\n",
            "0 <class 'str'>\n",
            "0 <class 'str'>\n",
            "0 <class 'str'>\n",
            "2 <class 'str'>\n",
            "2 <class 'str'>\n",
            "0 <class 'str'>\n",
            "0 <class 'str'>\n",
            "0 <class 'str'>\n",
            "0 <class 'str'>\n",
            "0 <class 'str'>\n",
            "0 <class 'str'>\n",
            "0 <class 'str'>\n",
            "2 <class 'str'>\n",
            "0 <class 'str'>\n",
            "nan <class 'float'>\n",
            "0 <class 'str'>\n",
            "nan <class 'float'>\n",
            "1 <class 'str'>\n",
            "2 <class 'str'>\n",
            "0 <class 'str'>\n",
            "2 <class 'str'>\n",
            "3 <class 'str'>\n",
            "0 <class 'str'>\n",
            "0 <class 'str'>\n",
            "0 <class 'str'>\n",
            "1 <class 'str'>\n",
            "0 <class 'str'>\n",
            "1 <class 'str'>\n",
            "0 <class 'str'>\n",
            "1 <class 'str'>\n",
            "0 <class 'str'>\n",
            "0 <class 'str'>\n",
            "nan <class 'float'>\n",
            "0 <class 'str'>\n",
            "0 <class 'str'>\n",
            "2 <class 'str'>\n",
            "0 <class 'str'>\n",
            "0 <class 'str'>\n",
            "3 <class 'str'>\n",
            "0 <class 'str'>\n",
            "1 <class 'str'>\n",
            "0 <class 'str'>\n",
            "0 <class 'str'>\n",
            "0 <class 'str'>\n",
            "0 <class 'str'>\n",
            "0 <class 'str'>\n",
            "0 <class 'str'>\n",
            "3 <class 'str'>\n",
            "0 <class 'str'>\n",
            "2 <class 'str'>\n",
            "0 <class 'str'>\n",
            "2 <class 'str'>\n",
            "2 <class 'str'>\n",
            "0 <class 'str'>\n",
            "0 <class 'str'>\n",
            "0 <class 'str'>\n",
            "2 <class 'str'>\n",
            "0 <class 'str'>\n",
            "2 <class 'str'>\n",
            "1 <class 'str'>\n",
            "0 <class 'str'>\n",
            "0 <class 'str'>\n",
            "0 <class 'str'>\n",
            "0 <class 'str'>\n",
            "0 <class 'str'>\n",
            "2 <class 'str'>\n",
            "0 <class 'str'>\n",
            "3 <class 'str'>\n",
            "1 <class 'str'>\n",
            "1 <class 'str'>\n",
            "0 <class 'str'>\n",
            "0 <class 'str'>\n",
            "0 <class 'str'>\n",
            "0 <class 'str'>\n",
            "1 <class 'str'>\n",
            "2 <class 'str'>\n",
            "0 <class 'str'>\n",
            "0 <class 'str'>\n",
            "0 <class 'str'>\n",
            "0 <class 'str'>\n",
            "0 <class 'str'>\n",
            "2 <class 'str'>\n",
            "0 <class 'str'>\n",
            "3 <class 'str'>\n",
            "3 <class 'str'>\n",
            "0 <class 'str'>\n",
            "0 <class 'str'>\n",
            "0 <class 'str'>\n",
            "2 <class 'str'>\n",
            "3 <class 'str'>\n",
            "1 <class 'str'>\n",
            "0 <class 'str'>\n",
            "1 <class 'str'>\n",
            "0 <class 'str'>\n",
            "0 <class 'str'>\n",
            "1 <class 'str'>\n",
            "0 <class 'str'>\n",
            "0 <class 'str'>\n",
            "1 <class 'str'>\n",
            "0 <class 'str'>\n",
            "0 <class 'str'>\n",
            "0 <class 'str'>\n",
            "0 <class 'str'>\n",
            "0 <class 'str'>\n",
            "0 <class 'str'>\n",
            "0 <class 'str'>\n",
            "0 <class 'str'>\n",
            "1 <class 'str'>\n",
            "0 <class 'str'>\n",
            "0 <class 'str'>\n",
            "0 <class 'str'>\n",
            "0 <class 'str'>\n",
            "1 <class 'str'>\n",
            "2 <class 'str'>\n",
            "3 <class 'str'>\n",
            "1 <class 'str'>\n",
            "2 <class 'str'>\n",
            "0 <class 'str'>\n",
            "0 <class 'str'>\n",
            "0 <class 'str'>\n",
            "0 <class 'str'>\n",
            "0 <class 'str'>\n",
            "0 <class 'str'>\n",
            "3 <class 'str'>\n",
            "1 <class 'str'>\n",
            "3 <class 'str'>\n",
            "0 <class 'str'>\n",
            "3 <class 'str'>\n",
            "0 <class 'str'>\n",
            "0 <class 'str'>\n",
            "2 <class 'str'>\n",
            "2 <class 'str'>\n",
            "0 <class 'str'>\n",
            "2 <class 'str'>\n",
            "0 <class 'str'>\n",
            "0 <class 'str'>\n",
            "0 <class 'str'>\n",
            "0 <class 'str'>\n",
            "nan <class 'float'>\n",
            "2 <class 'str'>\n",
            "nan <class 'float'>\n",
            "0 <class 'str'>\n",
            "1 <class 'str'>\n",
            "0 <class 'str'>\n",
            "0 <class 'str'>\n",
            "0 <class 'str'>\n",
            "1 <class 'str'>\n",
            "1 <class 'str'>\n",
            "0 <class 'str'>\n",
            "0 <class 'str'>\n",
            "1 <class 'str'>\n",
            "1 <class 'str'>\n",
            "2 <class 'str'>\n",
            "1 <class 'str'>\n",
            "0 <class 'str'>\n",
            "2 <class 'str'>\n",
            "0 <class 'str'>\n",
            "0 <class 'str'>\n",
            "2 <class 'str'>\n",
            "1 <class 'str'>\n",
            "1 <class 'str'>\n",
            "0 <class 'str'>\n",
            "0 <class 'str'>\n",
            "2 <class 'str'>\n",
            "0 <class 'str'>\n",
            "1 <class 'str'>\n",
            "0 <class 'str'>\n",
            "3 <class 'str'>\n",
            "0 <class 'str'>\n",
            "3 <class 'str'>\n",
            "0 <class 'str'>\n",
            "3 <class 'str'>\n",
            "1 <class 'str'>\n",
            "0 <class 'str'>\n",
            "1 <class 'str'>\n",
            "0 <class 'str'>\n",
            "0 <class 'str'>\n",
            "0 <class 'str'>\n",
            "2 <class 'str'>\n",
            "3 <class 'str'>\n",
            "0 <class 'str'>\n",
            "1 <class 'str'>\n",
            "0 <class 'str'>\n",
            "0 <class 'str'>\n",
            "0 <class 'str'>\n",
            "0 <class 'str'>\n",
            "2 <class 'str'>\n",
            "1 <class 'str'>\n",
            "0 <class 'str'>\n",
            "0 <class 'str'>\n",
            "0 <class 'str'>\n",
            "0 <class 'str'>\n",
            "1 <class 'str'>\n",
            "0 <class 'str'>\n",
            "2 <class 'str'>\n",
            "0 <class 'str'>\n",
            "0 <class 'str'>\n",
            "0 <class 'str'>\n",
            "0 <class 'str'>\n",
            "0 <class 'str'>\n",
            "0 <class 'str'>\n",
            "0 <class 'str'>\n",
            "0 <class 'str'>\n",
            "2 <class 'str'>\n",
            "2 <class 'str'>\n",
            "nan <class 'float'>\n",
            "0 <class 'str'>\n",
            "3 <class 'str'>\n",
            "1 <class 'str'>\n",
            "1 <class 'str'>\n",
            "0 <class 'str'>\n",
            "1 <class 'str'>\n",
            "0 <class 'str'>\n",
            "nan <class 'float'>\n",
            "0 <class 'str'>\n",
            "1 <class 'str'>\n",
            "0 <class 'str'>\n",
            "0 <class 'str'>\n",
            "0 <class 'str'>\n",
            "0 <class 'str'>\n",
            "0 <class 'str'>\n",
            "2 <class 'str'>\n",
            "0 <class 'str'>\n",
            "0 <class 'str'>\n",
            "0 <class 'str'>\n",
            "2 <class 'str'>\n",
            "0 <class 'str'>\n",
            "1 <class 'str'>\n",
            "2 <class 'str'>\n",
            "0 <class 'str'>\n",
            "1 <class 'str'>\n",
            "1 <class 'str'>\n",
            "0 <class 'str'>\n",
            "3 <class 'str'>\n",
            "2 <class 'str'>\n",
            "0 <class 'str'>\n",
            "3 <class 'str'>\n",
            "1 <class 'str'>\n",
            "0 <class 'str'>\n",
            "0 <class 'str'>\n",
            "0 <class 'str'>\n",
            "0 <class 'str'>\n",
            "1 <class 'str'>\n",
            "0 <class 'str'>\n",
            "nan <class 'float'>\n",
            "0 <class 'str'>\n",
            "1 <class 'str'>\n",
            "nan <class 'float'>\n",
            "1 <class 'str'>\n",
            "2 <class 'str'>\n",
            "3 <class 'str'>\n",
            "0 <class 'str'>\n",
            "3 <class 'str'>\n",
            "0 <class 'str'>\n",
            "1 <class 'str'>\n",
            "3 <class 'str'>\n",
            "2 <class 'str'>\n",
            "0 <class 'str'>\n",
            "nan <class 'float'>\n",
            "2 <class 'str'>\n",
            "0 <class 'str'>\n",
            "0 <class 'str'>\n",
            "0 <class 'str'>\n",
            "0 <class 'str'>\n",
            "3 <class 'str'>\n",
            "0 <class 'str'>\n",
            "0 <class 'str'>\n",
            "nan <class 'float'>\n",
            "2 <class 'str'>\n",
            "1 <class 'str'>\n",
            "0 <class 'str'>\n",
            "3 <class 'str'>\n",
            "1 <class 'str'>\n",
            "2 <class 'str'>\n",
            "0 <class 'str'>\n",
            "0 <class 'str'>\n",
            "0 <class 'str'>\n",
            "0 <class 'str'>\n",
            "0 <class 'str'>\n",
            "0 <class 'str'>\n",
            "1 <class 'str'>\n",
            "0 <class 'str'>\n",
            "0 <class 'str'>\n",
            "2 <class 'str'>\n",
            "2 <class 'str'>\n",
            "1 <class 'str'>\n",
            "0 <class 'str'>\n",
            "0 <class 'str'>\n",
            "3 <class 'str'>\n",
            "0 <class 'str'>\n",
            "0 <class 'str'>\n",
            "2 <class 'str'>\n",
            "0 <class 'str'>\n",
            "0 <class 'str'>\n",
            "0 <class 'str'>\n",
            "0 <class 'str'>\n",
            "2 <class 'str'>\n",
            "1 <class 'str'>\n",
            "0 <class 'str'>\n",
            "0 <class 'str'>\n",
            "0 <class 'str'>\n",
            "0 <class 'str'>\n",
            "3 <class 'str'>\n",
            "3 <class 'str'>\n",
            "0 <class 'str'>\n",
            "2 <class 'str'>\n",
            "2 <class 'str'>\n",
            "2 <class 'str'>\n",
            "0 <class 'str'>\n",
            "0 <class 'str'>\n",
            "0 <class 'str'>\n",
            "0 <class 'str'>\n",
            "2 <class 'str'>\n",
            "0 <class 'str'>\n",
            "0 <class 'str'>\n",
            "0 <class 'str'>\n",
            "0 <class 'str'>\n",
            "0 <class 'str'>\n",
            "0 <class 'str'>\n",
            "0 <class 'str'>\n",
            "1 <class 'str'>\n",
            "3 <class 'str'>\n",
            "1 <class 'str'>\n",
            "0 <class 'str'>\n",
            "0 <class 'str'>\n",
            "0 <class 'str'>\n",
            "0 <class 'str'>\n",
            "0 <class 'str'>\n",
            "1 <class 'str'>\n",
            "2 <class 'str'>\n",
            "0 <class 'str'>\n",
            "0 <class 'str'>\n",
            "0 <class 'str'>\n",
            "0 <class 'str'>\n",
            "0 <class 'str'>\n",
            "1 <class 'str'>\n",
            "0 <class 'str'>\n",
            "0 <class 'str'>\n",
            "1 <class 'str'>\n",
            "2 <class 'str'>\n",
            "0 <class 'str'>\n",
            "0 <class 'str'>\n",
            "1 <class 'str'>\n",
            "0 <class 'str'>\n",
            "0 <class 'str'>\n",
            "0 <class 'str'>\n",
            "0 <class 'str'>\n",
            "nan <class 'float'>\n",
            "0 <class 'str'>\n",
            "0 <class 'str'>\n",
            "0 <class 'str'>\n",
            "0 <class 'str'>\n",
            "0 <class 'str'>\n",
            "0 <class 'str'>\n",
            "3 <class 'str'>\n",
            "1 <class 'str'>\n",
            "0 <class 'str'>\n",
            "1 <class 'str'>\n",
            "2 <class 'str'>\n",
            "0 <class 'str'>\n",
            "2 <class 'str'>\n",
            "1 <class 'str'>\n",
            "2 <class 'str'>\n",
            "2 <class 'str'>\n",
            "0 <class 'str'>\n",
            "0 <class 'str'>\n",
            "0 <class 'str'>\n",
            "2 <class 'str'>\n",
            "0 <class 'str'>\n",
            "0 <class 'str'>\n",
            "2 <class 'str'>\n",
            "0 <class 'str'>\n",
            "0 <class 'str'>\n",
            "3 <class 'str'>\n",
            "0 <class 'str'>\n",
            "1 <class 'str'>\n",
            "0 <class 'str'>\n",
            "0 <class 'str'>\n",
            "3 <class 'str'>\n",
            "0 <class 'str'>\n",
            "2 <class 'str'>\n",
            "0 <class 'str'>\n",
            "1 <class 'str'>\n",
            "1 <class 'str'>\n",
            "3 <class 'str'>\n",
            "0 <class 'str'>\n",
            "2 <class 'str'>\n",
            "2 <class 'str'>\n",
            "2 <class 'str'>\n",
            "2 <class 'str'>\n",
            "1 <class 'str'>\n",
            "2 <class 'str'>\n",
            "0 <class 'str'>\n",
            "3 <class 'str'>\n",
            "0 <class 'str'>\n",
            "0 <class 'str'>\n",
            "2 <class 'str'>\n",
            "1 <class 'str'>\n",
            "2 <class 'str'>\n",
            "1 <class 'str'>\n",
            "2 <class 'str'>\n",
            "0 <class 'str'>\n",
            "0 <class 'str'>\n",
            "1 <class 'str'>\n",
            "0 <class 'str'>\n",
            "0 <class 'str'>\n",
            "0 <class 'str'>\n",
            "1 <class 'str'>\n",
            "0 <class 'str'>\n",
            "0 <class 'str'>\n",
            "1 <class 'str'>\n",
            "0 <class 'str'>\n",
            "0 <class 'str'>\n",
            "0 <class 'str'>\n",
            "2 <class 'str'>\n",
            "1 <class 'str'>\n",
            "0 <class 'str'>\n",
            "2 <class 'str'>\n",
            "0 <class 'str'>\n",
            "0 <class 'str'>\n",
            "0 <class 'str'>\n",
            "1 <class 'str'>\n",
            "0 <class 'str'>\n",
            "1 <class 'str'>\n",
            "2 <class 'str'>\n",
            "0 <class 'str'>\n",
            "0 <class 'str'>\n",
            "3 <class 'str'>\n",
            "2 <class 'str'>\n",
            "nan <class 'float'>\n",
            "0 <class 'str'>\n",
            "0 <class 'str'>\n",
            "2 <class 'str'>\n",
            "0 <class 'str'>\n",
            "3 <class 'str'>\n",
            "2 <class 'str'>\n",
            "0 <class 'str'>\n",
            "2 <class 'str'>\n",
            "0 <class 'str'>\n",
            "1 <class 'str'>\n",
            "1 <class 'str'>\n",
            "0 <class 'str'>\n",
            "0 <class 'str'>\n",
            "3 <class 'str'>\n",
            "2 <class 'str'>\n",
            "1 <class 'str'>\n",
            "0 <class 'str'>\n",
            "0 <class 'str'>\n",
            "0 <class 'str'>\n",
            "2 <class 'str'>\n",
            "0 <class 'str'>\n",
            "3 <class 'str'>\n",
            "1 <class 'str'>\n",
            "0 <class 'str'>\n",
            "1 <class 'str'>\n",
            "1 <class 'str'>\n",
            "0 <class 'str'>\n",
            "0 <class 'str'>\n",
            "0 <class 'str'>\n",
            "0 <class 'str'>\n",
            "0 <class 'str'>\n",
            "0 <class 'str'>\n",
            "2 <class 'str'>\n",
            "1 <class 'str'>\n",
            "1 <class 'str'>\n",
            "0 <class 'str'>\n",
            "0 <class 'str'>\n",
            "1 <class 'str'>\n",
            "0 <class 'str'>\n",
            "3 <class 'str'>\n",
            "0 <class 'str'>\n",
            "0 <class 'str'>\n",
            "2 <class 'str'>\n",
            "1 <class 'str'>\n",
            "0 <class 'str'>\n",
            "0 <class 'str'>\n",
            "2 <class 'str'>\n",
            "0 <class 'str'>\n",
            "0 <class 'str'>\n",
            "3 <class 'str'>\n",
            "0 <class 'str'>\n",
            "0 <class 'str'>\n",
            "1 <class 'str'>\n",
            "nan <class 'float'>\n",
            "2 <class 'str'>\n",
            "2 <class 'str'>\n",
            "3 <class 'str'>\n",
            "2 <class 'str'>\n",
            "0 <class 'str'>\n",
            "0 <class 'str'>\n",
            "1 <class 'str'>\n",
            "0 <class 'str'>\n",
            "2 <class 'str'>\n",
            "0 <class 'str'>\n",
            "0 <class 'str'>\n",
            "1 <class 'str'>\n",
            "1 <class 'str'>\n",
            "1 <class 'str'>\n",
            "0 <class 'str'>\n",
            "0 <class 'str'>\n",
            "0 <class 'str'>\n",
            "2 <class 'str'>\n",
            "0 <class 'str'>\n",
            "2 <class 'str'>\n",
            "3 <class 'str'>\n",
            "0 <class 'str'>\n",
            "0 <class 'str'>\n",
            "0 <class 'str'>\n",
            "2 <class 'str'>\n",
            "nan <class 'float'>\n",
            "0 <class 'str'>\n",
            "2 <class 'str'>\n",
            "3 <class 'str'>\n",
            "0 <class 'str'>\n",
            "3 <class 'str'>\n",
            "0 <class 'str'>\n",
            "1 <class 'str'>\n",
            "0 <class 'str'>\n",
            "1 <class 'str'>\n",
            "2 <class 'str'>\n",
            "0 <class 'str'>\n",
            "0 <class 'str'>\n",
            "3 <class 'str'>\n",
            "1 <class 'str'>\n",
            "2 <class 'str'>\n",
            "0 <class 'str'>\n"
          ]
        }
      ]
    },
    {
      "cell_type": "code",
      "source": [
        "df['Dependents']=df['Dependents'].fillna(str(int(mode_dp)))"
      ],
      "metadata": {
        "id": "c_VSyAsseRkV"
      },
      "execution_count": 58,
      "outputs": []
    },
    {
      "cell_type": "code",
      "source": [
        "df.isnull().sum()"
      ],
      "metadata": {
        "colab": {
          "base_uri": "https://localhost:8080/"
        },
        "id": "FIyldbsWpP5v",
        "outputId": "d3e0392c-cf35-4163-93fa-52b12cfc341d"
      },
      "execution_count": 59,
      "outputs": [
        {
          "output_type": "execute_result",
          "data": {
            "text/plain": [
              "Married               3\n",
              "Dependents            0\n",
              "Education             0\n",
              "Self_Employed        32\n",
              "ApplicantIncome       0\n",
              "CoapplicantIncome     0\n",
              "LoanAmount           22\n",
              "Loan_Amount_Term     14\n",
              "Credit_History       50\n",
              "Property_Area         0\n",
              "Loan_Status           0\n",
              "dtype: int64"
            ]
          },
          "metadata": {},
          "execution_count": 59
        }
      ]
    },
    {
      "cell_type": "code",
      "source": [
        "mean_loan=df['LoanAmount'].mean()\n",
        "df['LoanAmount']=df['LoanAmount'].fillna(math.floor(mean_loan))"
      ],
      "metadata": {
        "id": "9h7aTHlYp2ZU"
      },
      "execution_count": 60,
      "outputs": []
    },
    {
      "cell_type": "code",
      "source": [
        "mean_loan_term=df['Loan_Amount_Term'].mean()\n",
        "df['Loan_Amount_Term']=df['Loan_Amount_Term'].fillna(math.floor(mean_loan_term))"
      ],
      "metadata": {
        "id": "HJi1vEVvqN2n"
      },
      "execution_count": 61,
      "outputs": []
    },
    {
      "cell_type": "code",
      "source": [
        "mode_cre=df['Credit_History'].mode()\n",
        "print('1',mode_cre)\n",
        "df['Credit_History']=df['Credit_History'].fillna(mode_cre)"
      ],
      "metadata": {
        "colab": {
          "base_uri": "https://localhost:8080/"
        },
        "id": "oYS_YzLWqiId",
        "outputId": "1d6daf9d-e49e-495b-bd8f-815634c6843a"
      },
      "execution_count": 62,
      "outputs": [
        {
          "output_type": "stream",
          "name": "stdout",
          "text": [
            "1 0    1.0\n",
            "Name: Credit_History, dtype: float64\n"
          ]
        }
      ]
    },
    {
      "cell_type": "code",
      "source": [
        "df=df.dropna()"
      ],
      "metadata": {
        "id": "s_r5Cgjgro53"
      },
      "execution_count": 63,
      "outputs": []
    },
    {
      "cell_type": "code",
      "source": [
        "df.isnull().sum()"
      ],
      "metadata": {
        "colab": {
          "base_uri": "https://localhost:8080/"
        },
        "id": "l0DokTY1rtjf",
        "outputId": "6000afb1-8c39-49a4-dd41-700d91323cd9"
      },
      "execution_count": 64,
      "outputs": [
        {
          "output_type": "execute_result",
          "data": {
            "text/plain": [
              "Married              0\n",
              "Dependents           0\n",
              "Education            0\n",
              "Self_Employed        0\n",
              "ApplicantIncome      0\n",
              "CoapplicantIncome    0\n",
              "LoanAmount           0\n",
              "Loan_Amount_Term     0\n",
              "Credit_History       0\n",
              "Property_Area        0\n",
              "Loan_Status          0\n",
              "dtype: int64"
            ]
          },
          "metadata": {},
          "execution_count": 64
        }
      ]
    },
    {
      "cell_type": "code",
      "source": [
        "#data preprocessing\n",
        "from sklearn import preprocessing\n",
        "LE=preprocessing.LabelEncoder()\n",
        "#fitting technique \n",
        "df.Married=LE.fit_transform(df.Married)\n",
        "df.Education=LE.fit_transform(df.Education)\n",
        "df.Property_Area=LE.fit_transform(df.Property_Area)"
      ],
      "metadata": {
        "id": "-dEXkf-lwLsb"
      },
      "execution_count": 65,
      "outputs": []
    },
    {
      "cell_type": "code",
      "source": [
        "df.head()"
      ],
      "metadata": {
        "colab": {
          "base_uri": "https://localhost:8080/",
          "height": 206
        },
        "id": "IXQS4TnKw9uZ",
        "outputId": "56602385-437d-40e7-f010-38048048ec27"
      },
      "execution_count": 66,
      "outputs": [
        {
          "output_type": "execute_result",
          "data": {
            "text/plain": [
              "   Married Dependents  Education Self_Employed  ApplicantIncome  \\\n",
              "0        0          0          0            No             5849   \n",
              "1        1          1          0            No             4583   \n",
              "2        1          0          0           Yes             3000   \n",
              "3        1          0          1            No             2583   \n",
              "4        0          0          0            No             6000   \n",
              "\n",
              "   CoapplicantIncome  LoanAmount  Loan_Amount_Term  Credit_History  \\\n",
              "0                0.0       146.0             360.0             1.0   \n",
              "1             1508.0       128.0             360.0             1.0   \n",
              "2                0.0        66.0             360.0             1.0   \n",
              "3             2358.0       120.0             360.0             1.0   \n",
              "4                0.0       141.0             360.0             1.0   \n",
              "\n",
              "   Property_Area Loan_Status  \n",
              "0              2           Y  \n",
              "1              0           N  \n",
              "2              2           Y  \n",
              "3              2           Y  \n",
              "4              2           Y  "
            ],
            "text/html": [
              "\n",
              "  <div id=\"df-9f964ff9-36ef-46df-9869-5941719e64ec\">\n",
              "    <div class=\"colab-df-container\">\n",
              "      <div>\n",
              "<style scoped>\n",
              "    .dataframe tbody tr th:only-of-type {\n",
              "        vertical-align: middle;\n",
              "    }\n",
              "\n",
              "    .dataframe tbody tr th {\n",
              "        vertical-align: top;\n",
              "    }\n",
              "\n",
              "    .dataframe thead th {\n",
              "        text-align: right;\n",
              "    }\n",
              "</style>\n",
              "<table border=\"1\" class=\"dataframe\">\n",
              "  <thead>\n",
              "    <tr style=\"text-align: right;\">\n",
              "      <th></th>\n",
              "      <th>Married</th>\n",
              "      <th>Dependents</th>\n",
              "      <th>Education</th>\n",
              "      <th>Self_Employed</th>\n",
              "      <th>ApplicantIncome</th>\n",
              "      <th>CoapplicantIncome</th>\n",
              "      <th>LoanAmount</th>\n",
              "      <th>Loan_Amount_Term</th>\n",
              "      <th>Credit_History</th>\n",
              "      <th>Property_Area</th>\n",
              "      <th>Loan_Status</th>\n",
              "    </tr>\n",
              "  </thead>\n",
              "  <tbody>\n",
              "    <tr>\n",
              "      <th>0</th>\n",
              "      <td>0</td>\n",
              "      <td>0</td>\n",
              "      <td>0</td>\n",
              "      <td>No</td>\n",
              "      <td>5849</td>\n",
              "      <td>0.0</td>\n",
              "      <td>146.0</td>\n",
              "      <td>360.0</td>\n",
              "      <td>1.0</td>\n",
              "      <td>2</td>\n",
              "      <td>Y</td>\n",
              "    </tr>\n",
              "    <tr>\n",
              "      <th>1</th>\n",
              "      <td>1</td>\n",
              "      <td>1</td>\n",
              "      <td>0</td>\n",
              "      <td>No</td>\n",
              "      <td>4583</td>\n",
              "      <td>1508.0</td>\n",
              "      <td>128.0</td>\n",
              "      <td>360.0</td>\n",
              "      <td>1.0</td>\n",
              "      <td>0</td>\n",
              "      <td>N</td>\n",
              "    </tr>\n",
              "    <tr>\n",
              "      <th>2</th>\n",
              "      <td>1</td>\n",
              "      <td>0</td>\n",
              "      <td>0</td>\n",
              "      <td>Yes</td>\n",
              "      <td>3000</td>\n",
              "      <td>0.0</td>\n",
              "      <td>66.0</td>\n",
              "      <td>360.0</td>\n",
              "      <td>1.0</td>\n",
              "      <td>2</td>\n",
              "      <td>Y</td>\n",
              "    </tr>\n",
              "    <tr>\n",
              "      <th>3</th>\n",
              "      <td>1</td>\n",
              "      <td>0</td>\n",
              "      <td>1</td>\n",
              "      <td>No</td>\n",
              "      <td>2583</td>\n",
              "      <td>2358.0</td>\n",
              "      <td>120.0</td>\n",
              "      <td>360.0</td>\n",
              "      <td>1.0</td>\n",
              "      <td>2</td>\n",
              "      <td>Y</td>\n",
              "    </tr>\n",
              "    <tr>\n",
              "      <th>4</th>\n",
              "      <td>0</td>\n",
              "      <td>0</td>\n",
              "      <td>0</td>\n",
              "      <td>No</td>\n",
              "      <td>6000</td>\n",
              "      <td>0.0</td>\n",
              "      <td>141.0</td>\n",
              "      <td>360.0</td>\n",
              "      <td>1.0</td>\n",
              "      <td>2</td>\n",
              "      <td>Y</td>\n",
              "    </tr>\n",
              "  </tbody>\n",
              "</table>\n",
              "</div>\n",
              "      <button class=\"colab-df-convert\" onclick=\"convertToInteractive('df-9f964ff9-36ef-46df-9869-5941719e64ec')\"\n",
              "              title=\"Convert this dataframe to an interactive table.\"\n",
              "              style=\"display:none;\">\n",
              "        \n",
              "  <svg xmlns=\"http://www.w3.org/2000/svg\" height=\"24px\"viewBox=\"0 0 24 24\"\n",
              "       width=\"24px\">\n",
              "    <path d=\"M0 0h24v24H0V0z\" fill=\"none\"/>\n",
              "    <path d=\"M18.56 5.44l.94 2.06.94-2.06 2.06-.94-2.06-.94-.94-2.06-.94 2.06-2.06.94zm-11 1L8.5 8.5l.94-2.06 2.06-.94-2.06-.94L8.5 2.5l-.94 2.06-2.06.94zm10 10l.94 2.06.94-2.06 2.06-.94-2.06-.94-.94-2.06-.94 2.06-2.06.94z\"/><path d=\"M17.41 7.96l-1.37-1.37c-.4-.4-.92-.59-1.43-.59-.52 0-1.04.2-1.43.59L10.3 9.45l-7.72 7.72c-.78.78-.78 2.05 0 2.83L4 21.41c.39.39.9.59 1.41.59.51 0 1.02-.2 1.41-.59l7.78-7.78 2.81-2.81c.8-.78.8-2.07 0-2.86zM5.41 20L4 18.59l7.72-7.72 1.47 1.35L5.41 20z\"/>\n",
              "  </svg>\n",
              "      </button>\n",
              "      \n",
              "  <style>\n",
              "    .colab-df-container {\n",
              "      display:flex;\n",
              "      flex-wrap:wrap;\n",
              "      gap: 12px;\n",
              "    }\n",
              "\n",
              "    .colab-df-convert {\n",
              "      background-color: #E8F0FE;\n",
              "      border: none;\n",
              "      border-radius: 50%;\n",
              "      cursor: pointer;\n",
              "      display: none;\n",
              "      fill: #1967D2;\n",
              "      height: 32px;\n",
              "      padding: 0 0 0 0;\n",
              "      width: 32px;\n",
              "    }\n",
              "\n",
              "    .colab-df-convert:hover {\n",
              "      background-color: #E2EBFA;\n",
              "      box-shadow: 0px 1px 2px rgba(60, 64, 67, 0.3), 0px 1px 3px 1px rgba(60, 64, 67, 0.15);\n",
              "      fill: #174EA6;\n",
              "    }\n",
              "\n",
              "    [theme=dark] .colab-df-convert {\n",
              "      background-color: #3B4455;\n",
              "      fill: #D2E3FC;\n",
              "    }\n",
              "\n",
              "    [theme=dark] .colab-df-convert:hover {\n",
              "      background-color: #434B5C;\n",
              "      box-shadow: 0px 1px 3px 1px rgba(0, 0, 0, 0.15);\n",
              "      filter: drop-shadow(0px 1px 2px rgba(0, 0, 0, 0.3));\n",
              "      fill: #FFFFFF;\n",
              "    }\n",
              "  </style>\n",
              "\n",
              "      <script>\n",
              "        const buttonEl =\n",
              "          document.querySelector('#df-9f964ff9-36ef-46df-9869-5941719e64ec button.colab-df-convert');\n",
              "        buttonEl.style.display =\n",
              "          google.colab.kernel.accessAllowed ? 'block' : 'none';\n",
              "\n",
              "        async function convertToInteractive(key) {\n",
              "          const element = document.querySelector('#df-9f964ff9-36ef-46df-9869-5941719e64ec');\n",
              "          const dataTable =\n",
              "            await google.colab.kernel.invokeFunction('convertToInteractive',\n",
              "                                                     [key], {});\n",
              "          if (!dataTable) return;\n",
              "\n",
              "          const docLinkHtml = 'Like what you see? Visit the ' +\n",
              "            '<a target=\"_blank\" href=https://colab.research.google.com/notebooks/data_table.ipynb>data table notebook</a>'\n",
              "            + ' to learn more about interactive tables.';\n",
              "          element.innerHTML = '';\n",
              "          dataTable['output_type'] = 'display_data';\n",
              "          await google.colab.output.renderOutput(dataTable, element);\n",
              "          const docLink = document.createElement('div');\n",
              "          docLink.innerHTML = docLinkHtml;\n",
              "          element.appendChild(docLink);\n",
              "        }\n",
              "      </script>\n",
              "    </div>\n",
              "  </div>\n",
              "  "
            ]
          },
          "metadata": {},
          "execution_count": 66
        }
      ]
    },
    {
      "cell_type": "code",
      "source": [
        "for i in df['Dependents']:\n",
        "  i=int(i)"
      ],
      "metadata": {
        "id": "eKSH95TXcAkJ"
      },
      "execution_count": 67,
      "outputs": []
    },
    {
      "cell_type": "code",
      "source": [
        "for i in df['Dependents']:\n",
        "  print(i,type(i))"
      ],
      "metadata": {
        "colab": {
          "base_uri": "https://localhost:8080/"
        },
        "id": "GRrvx1ICdq9g",
        "outputId": "f2844c94-dd6c-4b16-afff-d9d1deb8c1a7"
      },
      "execution_count": 68,
      "outputs": [
        {
          "output_type": "stream",
          "name": "stdout",
          "text": [
            "0 <class 'str'>\n",
            "1 <class 'str'>\n",
            "0 <class 'str'>\n",
            "0 <class 'str'>\n",
            "0 <class 'str'>\n",
            "2 <class 'str'>\n",
            "0 <class 'str'>\n",
            "3 <class 'str'>\n",
            "2 <class 'str'>\n",
            "1 <class 'str'>\n",
            "2 <class 'str'>\n",
            "2 <class 'str'>\n",
            "0 <class 'str'>\n",
            "2 <class 'str'>\n",
            "0 <class 'str'>\n",
            "0 <class 'str'>\n",
            "0 <class 'str'>\n",
            "0 <class 'str'>\n",
            "1 <class 'str'>\n",
            "0 <class 'str'>\n",
            "2 <class 'str'>\n",
            "0 <class 'str'>\n",
            "0 <class 'str'>\n",
            "2 <class 'str'>\n",
            "0 <class 'str'>\n",
            "0 <class 'str'>\n",
            "1 <class 'str'>\n",
            "0 <class 'str'>\n",
            "3 <class 'str'>\n",
            "0 <class 'str'>\n",
            "0 <class 'str'>\n",
            "0 <class 'str'>\n",
            "0 <class 'str'>\n",
            "0 <class 'str'>\n",
            "0 <class 'str'>\n",
            "0 <class 'str'>\n",
            "0 <class 'str'>\n",
            "0 <class 'str'>\n",
            "0 <class 'str'>\n",
            "1 <class 'str'>\n",
            "0 <class 'str'>\n",
            "0 <class 'str'>\n",
            "0 <class 'str'>\n",
            "0 <class 'str'>\n",
            "0 <class 'str'>\n",
            "0 <class 'str'>\n",
            "2 <class 'str'>\n",
            "1 <class 'str'>\n",
            "2 <class 'str'>\n",
            "0 <class 'str'>\n",
            "0 <class 'str'>\n",
            "1 <class 'str'>\n",
            "2 <class 'str'>\n",
            "0 <class 'str'>\n",
            "3 <class 'str'>\n",
            "0 <class 'str'>\n",
            "1 <class 'str'>\n",
            "0 <class 'str'>\n",
            "0 <class 'str'>\n",
            "0 <class 'str'>\n",
            "1 <class 'str'>\n",
            "3 <class 'str'>\n",
            "0 <class 'str'>\n",
            "0 <class 'str'>\n",
            "2 <class 'str'>\n",
            "0 <class 'str'>\n",
            "3 <class 'str'>\n",
            "3 <class 'str'>\n",
            "0 <class 'str'>\n",
            "0 <class 'str'>\n",
            "1 <class 'str'>\n",
            "3 <class 'str'>\n",
            "0 <class 'str'>\n",
            "1 <class 'str'>\n",
            "2 <class 'str'>\n",
            "1 <class 'str'>\n",
            "0 <class 'str'>\n",
            "0 <class 'str'>\n",
            "0 <class 'str'>\n",
            "0 <class 'str'>\n",
            "0 <class 'str'>\n",
            "2 <class 'str'>\n",
            "2 <class 'str'>\n",
            "0 <class 'str'>\n",
            "0 <class 'str'>\n",
            "0 <class 'str'>\n",
            "0 <class 'str'>\n",
            "0 <class 'str'>\n",
            "0 <class 'str'>\n",
            "2 <class 'str'>\n",
            "0 <class 'str'>\n",
            "0 <class 'str'>\n",
            "0 <class 'str'>\n",
            "1 <class 'str'>\n",
            "2 <class 'str'>\n",
            "2 <class 'str'>\n",
            "3 <class 'str'>\n",
            "0 <class 'str'>\n",
            "0 <class 'str'>\n",
            "1 <class 'str'>\n",
            "1 <class 'str'>\n",
            "0 <class 'str'>\n",
            "0 <class 'str'>\n",
            "0 <class 'str'>\n",
            "0 <class 'str'>\n",
            "0 <class 'str'>\n",
            "0 <class 'str'>\n",
            "2 <class 'str'>\n",
            "0 <class 'str'>\n",
            "3 <class 'str'>\n",
            "0 <class 'str'>\n",
            "1 <class 'str'>\n",
            "0 <class 'str'>\n",
            "0 <class 'str'>\n",
            "0 <class 'str'>\n",
            "0 <class 'str'>\n",
            "3 <class 'str'>\n",
            "0 <class 'str'>\n",
            "2 <class 'str'>\n",
            "0 <class 'str'>\n",
            "2 <class 'str'>\n",
            "2 <class 'str'>\n",
            "0 <class 'str'>\n",
            "0 <class 'str'>\n",
            "0 <class 'str'>\n",
            "2 <class 'str'>\n",
            "0 <class 'str'>\n",
            "2 <class 'str'>\n",
            "1 <class 'str'>\n",
            "0 <class 'str'>\n",
            "0 <class 'str'>\n",
            "0 <class 'str'>\n",
            "0 <class 'str'>\n",
            "0 <class 'str'>\n",
            "2 <class 'str'>\n",
            "0 <class 'str'>\n",
            "3 <class 'str'>\n",
            "1 <class 'str'>\n",
            "0 <class 'str'>\n",
            "0 <class 'str'>\n",
            "0 <class 'str'>\n",
            "1 <class 'str'>\n",
            "2 <class 'str'>\n",
            "0 <class 'str'>\n",
            "0 <class 'str'>\n",
            "0 <class 'str'>\n",
            "0 <class 'str'>\n",
            "0 <class 'str'>\n",
            "2 <class 'str'>\n",
            "3 <class 'str'>\n",
            "3 <class 'str'>\n",
            "0 <class 'str'>\n",
            "0 <class 'str'>\n",
            "0 <class 'str'>\n",
            "2 <class 'str'>\n",
            "3 <class 'str'>\n",
            "1 <class 'str'>\n",
            "0 <class 'str'>\n",
            "1 <class 'str'>\n",
            "0 <class 'str'>\n",
            "1 <class 'str'>\n",
            "0 <class 'str'>\n",
            "0 <class 'str'>\n",
            "1 <class 'str'>\n",
            "0 <class 'str'>\n",
            "0 <class 'str'>\n",
            "0 <class 'str'>\n",
            "0 <class 'str'>\n",
            "0 <class 'str'>\n",
            "0 <class 'str'>\n",
            "0 <class 'str'>\n",
            "1 <class 'str'>\n",
            "0 <class 'str'>\n",
            "0 <class 'str'>\n",
            "0 <class 'str'>\n",
            "1 <class 'str'>\n",
            "2 <class 'str'>\n",
            "3 <class 'str'>\n",
            "1 <class 'str'>\n",
            "2 <class 'str'>\n",
            "0 <class 'str'>\n",
            "0 <class 'str'>\n",
            "0 <class 'str'>\n",
            "0 <class 'str'>\n",
            "0 <class 'str'>\n",
            "0 <class 'str'>\n",
            "3 <class 'str'>\n",
            "1 <class 'str'>\n",
            "3 <class 'str'>\n",
            "0 <class 'str'>\n",
            "3 <class 'str'>\n",
            "0 <class 'str'>\n",
            "0 <class 'str'>\n",
            "0 <class 'str'>\n",
            "2 <class 'str'>\n",
            "0 <class 'str'>\n",
            "0 <class 'str'>\n",
            "0 <class 'str'>\n",
            "0 <class 'str'>\n",
            "0 <class 'str'>\n",
            "2 <class 'str'>\n",
            "0 <class 'str'>\n",
            "1 <class 'str'>\n",
            "0 <class 'str'>\n",
            "0 <class 'str'>\n",
            "1 <class 'str'>\n",
            "1 <class 'str'>\n",
            "1 <class 'str'>\n",
            "1 <class 'str'>\n",
            "2 <class 'str'>\n",
            "1 <class 'str'>\n",
            "0 <class 'str'>\n",
            "2 <class 'str'>\n",
            "0 <class 'str'>\n",
            "0 <class 'str'>\n",
            "2 <class 'str'>\n",
            "1 <class 'str'>\n",
            "1 <class 'str'>\n",
            "0 <class 'str'>\n",
            "0 <class 'str'>\n",
            "2 <class 'str'>\n",
            "0 <class 'str'>\n",
            "1 <class 'str'>\n",
            "0 <class 'str'>\n",
            "3 <class 'str'>\n",
            "0 <class 'str'>\n",
            "3 <class 'str'>\n",
            "0 <class 'str'>\n",
            "0 <class 'str'>\n",
            "1 <class 'str'>\n",
            "0 <class 'str'>\n",
            "0 <class 'str'>\n",
            "0 <class 'str'>\n",
            "2 <class 'str'>\n",
            "3 <class 'str'>\n",
            "1 <class 'str'>\n",
            "0 <class 'str'>\n",
            "0 <class 'str'>\n",
            "0 <class 'str'>\n",
            "0 <class 'str'>\n",
            "2 <class 'str'>\n",
            "1 <class 'str'>\n",
            "0 <class 'str'>\n",
            "0 <class 'str'>\n",
            "0 <class 'str'>\n",
            "1 <class 'str'>\n",
            "0 <class 'str'>\n",
            "2 <class 'str'>\n",
            "0 <class 'str'>\n",
            "0 <class 'str'>\n",
            "0 <class 'str'>\n",
            "0 <class 'str'>\n",
            "0 <class 'str'>\n",
            "0 <class 'str'>\n",
            "0 <class 'str'>\n",
            "0 <class 'str'>\n",
            "2 <class 'str'>\n",
            "2 <class 'str'>\n",
            "0 <class 'str'>\n",
            "0 <class 'str'>\n",
            "1 <class 'str'>\n",
            "1 <class 'str'>\n",
            "0 <class 'str'>\n",
            "1 <class 'str'>\n",
            "0 <class 'str'>\n",
            "0 <class 'str'>\n",
            "0 <class 'str'>\n",
            "1 <class 'str'>\n",
            "0 <class 'str'>\n",
            "0 <class 'str'>\n",
            "0 <class 'str'>\n",
            "0 <class 'str'>\n",
            "0 <class 'str'>\n",
            "0 <class 'str'>\n",
            "0 <class 'str'>\n",
            "0 <class 'str'>\n",
            "0 <class 'str'>\n",
            "1 <class 'str'>\n",
            "2 <class 'str'>\n",
            "1 <class 'str'>\n",
            "0 <class 'str'>\n",
            "3 <class 'str'>\n",
            "2 <class 'str'>\n",
            "3 <class 'str'>\n",
            "1 <class 'str'>\n",
            "0 <class 'str'>\n",
            "0 <class 'str'>\n",
            "0 <class 'str'>\n",
            "0 <class 'str'>\n",
            "1 <class 'str'>\n",
            "0 <class 'str'>\n",
            "0 <class 'str'>\n",
            "1 <class 'str'>\n",
            "0 <class 'str'>\n",
            "2 <class 'str'>\n",
            "3 <class 'str'>\n",
            "0 <class 'str'>\n",
            "3 <class 'str'>\n",
            "0 <class 'str'>\n",
            "1 <class 'str'>\n",
            "3 <class 'str'>\n",
            "0 <class 'str'>\n",
            "0 <class 'str'>\n",
            "2 <class 'str'>\n",
            "0 <class 'str'>\n",
            "0 <class 'str'>\n",
            "0 <class 'str'>\n",
            "3 <class 'str'>\n",
            "0 <class 'str'>\n",
            "0 <class 'str'>\n",
            "0 <class 'str'>\n",
            "2 <class 'str'>\n",
            "1 <class 'str'>\n",
            "0 <class 'str'>\n",
            "3 <class 'str'>\n",
            "1 <class 'str'>\n",
            "2 <class 'str'>\n",
            "0 <class 'str'>\n",
            "0 <class 'str'>\n",
            "0 <class 'str'>\n",
            "0 <class 'str'>\n",
            "0 <class 'str'>\n",
            "1 <class 'str'>\n",
            "0 <class 'str'>\n",
            "0 <class 'str'>\n",
            "2 <class 'str'>\n",
            "2 <class 'str'>\n",
            "1 <class 'str'>\n",
            "0 <class 'str'>\n",
            "3 <class 'str'>\n",
            "0 <class 'str'>\n",
            "2 <class 'str'>\n",
            "0 <class 'str'>\n",
            "0 <class 'str'>\n",
            "0 <class 'str'>\n",
            "2 <class 'str'>\n",
            "0 <class 'str'>\n",
            "0 <class 'str'>\n",
            "0 <class 'str'>\n",
            "0 <class 'str'>\n",
            "3 <class 'str'>\n",
            "3 <class 'str'>\n",
            "2 <class 'str'>\n",
            "2 <class 'str'>\n",
            "0 <class 'str'>\n",
            "0 <class 'str'>\n",
            "0 <class 'str'>\n",
            "0 <class 'str'>\n",
            "2 <class 'str'>\n",
            "0 <class 'str'>\n",
            "0 <class 'str'>\n",
            "0 <class 'str'>\n",
            "0 <class 'str'>\n",
            "0 <class 'str'>\n",
            "0 <class 'str'>\n",
            "0 <class 'str'>\n",
            "1 <class 'str'>\n",
            "3 <class 'str'>\n",
            "1 <class 'str'>\n",
            "0 <class 'str'>\n",
            "0 <class 'str'>\n",
            "0 <class 'str'>\n",
            "0 <class 'str'>\n",
            "1 <class 'str'>\n",
            "2 <class 'str'>\n",
            "0 <class 'str'>\n",
            "0 <class 'str'>\n",
            "0 <class 'str'>\n",
            "0 <class 'str'>\n",
            "0 <class 'str'>\n",
            "1 <class 'str'>\n",
            "0 <class 'str'>\n",
            "0 <class 'str'>\n",
            "1 <class 'str'>\n",
            "2 <class 'str'>\n",
            "0 <class 'str'>\n",
            "0 <class 'str'>\n",
            "1 <class 'str'>\n",
            "0 <class 'str'>\n",
            "0 <class 'str'>\n",
            "0 <class 'str'>\n",
            "0 <class 'str'>\n",
            "0 <class 'str'>\n",
            "0 <class 'str'>\n",
            "0 <class 'str'>\n",
            "0 <class 'str'>\n",
            "0 <class 'str'>\n",
            "3 <class 'str'>\n",
            "1 <class 'str'>\n",
            "1 <class 'str'>\n",
            "2 <class 'str'>\n",
            "2 <class 'str'>\n",
            "2 <class 'str'>\n",
            "0 <class 'str'>\n",
            "0 <class 'str'>\n",
            "0 <class 'str'>\n",
            "2 <class 'str'>\n",
            "0 <class 'str'>\n",
            "0 <class 'str'>\n",
            "2 <class 'str'>\n",
            "0 <class 'str'>\n",
            "3 <class 'str'>\n",
            "0 <class 'str'>\n",
            "0 <class 'str'>\n",
            "0 <class 'str'>\n",
            "3 <class 'str'>\n",
            "0 <class 'str'>\n",
            "0 <class 'str'>\n",
            "1 <class 'str'>\n",
            "1 <class 'str'>\n",
            "3 <class 'str'>\n",
            "2 <class 'str'>\n",
            "2 <class 'str'>\n",
            "2 <class 'str'>\n",
            "2 <class 'str'>\n",
            "1 <class 'str'>\n",
            "2 <class 'str'>\n",
            "0 <class 'str'>\n",
            "3 <class 'str'>\n",
            "0 <class 'str'>\n",
            "0 <class 'str'>\n",
            "2 <class 'str'>\n",
            "1 <class 'str'>\n",
            "2 <class 'str'>\n",
            "1 <class 'str'>\n",
            "2 <class 'str'>\n",
            "0 <class 'str'>\n",
            "0 <class 'str'>\n",
            "0 <class 'str'>\n",
            "0 <class 'str'>\n",
            "1 <class 'str'>\n",
            "0 <class 'str'>\n",
            "1 <class 'str'>\n",
            "0 <class 'str'>\n",
            "0 <class 'str'>\n",
            "0 <class 'str'>\n",
            "2 <class 'str'>\n",
            "0 <class 'str'>\n",
            "2 <class 'str'>\n",
            "0 <class 'str'>\n",
            "0 <class 'str'>\n",
            "1 <class 'str'>\n",
            "0 <class 'str'>\n",
            "1 <class 'str'>\n",
            "2 <class 'str'>\n",
            "0 <class 'str'>\n",
            "0 <class 'str'>\n",
            "3 <class 'str'>\n",
            "2 <class 'str'>\n",
            "0 <class 'str'>\n",
            "0 <class 'str'>\n",
            "0 <class 'str'>\n",
            "2 <class 'str'>\n",
            "0 <class 'str'>\n",
            "3 <class 'str'>\n",
            "2 <class 'str'>\n",
            "0 <class 'str'>\n",
            "2 <class 'str'>\n",
            "0 <class 'str'>\n",
            "1 <class 'str'>\n",
            "1 <class 'str'>\n",
            "0 <class 'str'>\n",
            "3 <class 'str'>\n",
            "2 <class 'str'>\n",
            "0 <class 'str'>\n",
            "0 <class 'str'>\n",
            "2 <class 'str'>\n",
            "0 <class 'str'>\n",
            "3 <class 'str'>\n",
            "1 <class 'str'>\n",
            "0 <class 'str'>\n",
            "1 <class 'str'>\n",
            "0 <class 'str'>\n",
            "0 <class 'str'>\n",
            "0 <class 'str'>\n",
            "0 <class 'str'>\n",
            "0 <class 'str'>\n",
            "2 <class 'str'>\n",
            "1 <class 'str'>\n",
            "1 <class 'str'>\n",
            "0 <class 'str'>\n",
            "0 <class 'str'>\n",
            "1 <class 'str'>\n",
            "3 <class 'str'>\n",
            "0 <class 'str'>\n",
            "0 <class 'str'>\n",
            "2 <class 'str'>\n",
            "1 <class 'str'>\n",
            "0 <class 'str'>\n",
            "0 <class 'str'>\n",
            "2 <class 'str'>\n",
            "0 <class 'str'>\n",
            "3 <class 'str'>\n",
            "0 <class 'str'>\n",
            "0 <class 'str'>\n",
            "1 <class 'str'>\n",
            "0 <class 'str'>\n",
            "2 <class 'str'>\n",
            "2 <class 'str'>\n",
            "3 <class 'str'>\n",
            "2 <class 'str'>\n",
            "0 <class 'str'>\n",
            "0 <class 'str'>\n",
            "1 <class 'str'>\n",
            "2 <class 'str'>\n",
            "0 <class 'str'>\n",
            "0 <class 'str'>\n",
            "1 <class 'str'>\n",
            "1 <class 'str'>\n",
            "0 <class 'str'>\n",
            "0 <class 'str'>\n",
            "0 <class 'str'>\n",
            "2 <class 'str'>\n",
            "0 <class 'str'>\n",
            "2 <class 'str'>\n",
            "3 <class 'str'>\n",
            "0 <class 'str'>\n",
            "0 <class 'str'>\n",
            "0 <class 'str'>\n",
            "2 <class 'str'>\n",
            "0 <class 'str'>\n",
            "0 <class 'str'>\n",
            "2 <class 'str'>\n",
            "3 <class 'str'>\n",
            "0 <class 'str'>\n",
            "1 <class 'str'>\n",
            "0 <class 'str'>\n",
            "1 <class 'str'>\n",
            "2 <class 'str'>\n",
            "0 <class 'str'>\n",
            "0 <class 'str'>\n",
            "3 <class 'str'>\n",
            "1 <class 'str'>\n",
            "2 <class 'str'>\n",
            "0 <class 'str'>\n"
          ]
        }
      ]
    },
    {
      "cell_type": "code",
      "source": [
        "categorical_features = ['Married','Self_Employed','Dependents']\n",
        "encoders = dict()\n",
        "for col in categorical_features:\n",
        "    encoders[col] = preprocessing.LabelEncoder()\n",
        "    df[f'{col}']=encoders[col].fit_transform(df[col])"
      ],
      "metadata": {
        "id": "mBuscE-gZmZ7"
      },
      "execution_count": 69,
      "outputs": []
    },
    {
      "cell_type": "code",
      "source": [
        "df.Loan_Status=LE.fit_transform(df.Loan_Status)"
      ],
      "metadata": {
        "id": "z-atq1Q5xECH"
      },
      "execution_count": 70,
      "outputs": []
    },
    {
      "cell_type": "code",
      "source": [
        "df.head()"
      ],
      "metadata": {
        "colab": {
          "base_uri": "https://localhost:8080/",
          "height": 206
        },
        "id": "tCmidYKRxeHA",
        "outputId": "e61a9e4d-43c0-448a-84fd-2c48354342bb"
      },
      "execution_count": 71,
      "outputs": [
        {
          "output_type": "execute_result",
          "data": {
            "text/plain": [
              "   Married  Dependents  Education  Self_Employed  ApplicantIncome  \\\n",
              "0        0           0          0              0             5849   \n",
              "1        1           1          0              0             4583   \n",
              "2        1           0          0              1             3000   \n",
              "3        1           0          1              0             2583   \n",
              "4        0           0          0              0             6000   \n",
              "\n",
              "   CoapplicantIncome  LoanAmount  Loan_Amount_Term  Credit_History  \\\n",
              "0                0.0       146.0             360.0             1.0   \n",
              "1             1508.0       128.0             360.0             1.0   \n",
              "2                0.0        66.0             360.0             1.0   \n",
              "3             2358.0       120.0             360.0             1.0   \n",
              "4                0.0       141.0             360.0             1.0   \n",
              "\n",
              "   Property_Area  Loan_Status  \n",
              "0              2            1  \n",
              "1              0            0  \n",
              "2              2            1  \n",
              "3              2            1  \n",
              "4              2            1  "
            ],
            "text/html": [
              "\n",
              "  <div id=\"df-badefabb-1cf1-4d0e-aa6b-719710c0675e\">\n",
              "    <div class=\"colab-df-container\">\n",
              "      <div>\n",
              "<style scoped>\n",
              "    .dataframe tbody tr th:only-of-type {\n",
              "        vertical-align: middle;\n",
              "    }\n",
              "\n",
              "    .dataframe tbody tr th {\n",
              "        vertical-align: top;\n",
              "    }\n",
              "\n",
              "    .dataframe thead th {\n",
              "        text-align: right;\n",
              "    }\n",
              "</style>\n",
              "<table border=\"1\" class=\"dataframe\">\n",
              "  <thead>\n",
              "    <tr style=\"text-align: right;\">\n",
              "      <th></th>\n",
              "      <th>Married</th>\n",
              "      <th>Dependents</th>\n",
              "      <th>Education</th>\n",
              "      <th>Self_Employed</th>\n",
              "      <th>ApplicantIncome</th>\n",
              "      <th>CoapplicantIncome</th>\n",
              "      <th>LoanAmount</th>\n",
              "      <th>Loan_Amount_Term</th>\n",
              "      <th>Credit_History</th>\n",
              "      <th>Property_Area</th>\n",
              "      <th>Loan_Status</th>\n",
              "    </tr>\n",
              "  </thead>\n",
              "  <tbody>\n",
              "    <tr>\n",
              "      <th>0</th>\n",
              "      <td>0</td>\n",
              "      <td>0</td>\n",
              "      <td>0</td>\n",
              "      <td>0</td>\n",
              "      <td>5849</td>\n",
              "      <td>0.0</td>\n",
              "      <td>146.0</td>\n",
              "      <td>360.0</td>\n",
              "      <td>1.0</td>\n",
              "      <td>2</td>\n",
              "      <td>1</td>\n",
              "    </tr>\n",
              "    <tr>\n",
              "      <th>1</th>\n",
              "      <td>1</td>\n",
              "      <td>1</td>\n",
              "      <td>0</td>\n",
              "      <td>0</td>\n",
              "      <td>4583</td>\n",
              "      <td>1508.0</td>\n",
              "      <td>128.0</td>\n",
              "      <td>360.0</td>\n",
              "      <td>1.0</td>\n",
              "      <td>0</td>\n",
              "      <td>0</td>\n",
              "    </tr>\n",
              "    <tr>\n",
              "      <th>2</th>\n",
              "      <td>1</td>\n",
              "      <td>0</td>\n",
              "      <td>0</td>\n",
              "      <td>1</td>\n",
              "      <td>3000</td>\n",
              "      <td>0.0</td>\n",
              "      <td>66.0</td>\n",
              "      <td>360.0</td>\n",
              "      <td>1.0</td>\n",
              "      <td>2</td>\n",
              "      <td>1</td>\n",
              "    </tr>\n",
              "    <tr>\n",
              "      <th>3</th>\n",
              "      <td>1</td>\n",
              "      <td>0</td>\n",
              "      <td>1</td>\n",
              "      <td>0</td>\n",
              "      <td>2583</td>\n",
              "      <td>2358.0</td>\n",
              "      <td>120.0</td>\n",
              "      <td>360.0</td>\n",
              "      <td>1.0</td>\n",
              "      <td>2</td>\n",
              "      <td>1</td>\n",
              "    </tr>\n",
              "    <tr>\n",
              "      <th>4</th>\n",
              "      <td>0</td>\n",
              "      <td>0</td>\n",
              "      <td>0</td>\n",
              "      <td>0</td>\n",
              "      <td>6000</td>\n",
              "      <td>0.0</td>\n",
              "      <td>141.0</td>\n",
              "      <td>360.0</td>\n",
              "      <td>1.0</td>\n",
              "      <td>2</td>\n",
              "      <td>1</td>\n",
              "    </tr>\n",
              "  </tbody>\n",
              "</table>\n",
              "</div>\n",
              "      <button class=\"colab-df-convert\" onclick=\"convertToInteractive('df-badefabb-1cf1-4d0e-aa6b-719710c0675e')\"\n",
              "              title=\"Convert this dataframe to an interactive table.\"\n",
              "              style=\"display:none;\">\n",
              "        \n",
              "  <svg xmlns=\"http://www.w3.org/2000/svg\" height=\"24px\"viewBox=\"0 0 24 24\"\n",
              "       width=\"24px\">\n",
              "    <path d=\"M0 0h24v24H0V0z\" fill=\"none\"/>\n",
              "    <path d=\"M18.56 5.44l.94 2.06.94-2.06 2.06-.94-2.06-.94-.94-2.06-.94 2.06-2.06.94zm-11 1L8.5 8.5l.94-2.06 2.06-.94-2.06-.94L8.5 2.5l-.94 2.06-2.06.94zm10 10l.94 2.06.94-2.06 2.06-.94-2.06-.94-.94-2.06-.94 2.06-2.06.94z\"/><path d=\"M17.41 7.96l-1.37-1.37c-.4-.4-.92-.59-1.43-.59-.52 0-1.04.2-1.43.59L10.3 9.45l-7.72 7.72c-.78.78-.78 2.05 0 2.83L4 21.41c.39.39.9.59 1.41.59.51 0 1.02-.2 1.41-.59l7.78-7.78 2.81-2.81c.8-.78.8-2.07 0-2.86zM5.41 20L4 18.59l7.72-7.72 1.47 1.35L5.41 20z\"/>\n",
              "  </svg>\n",
              "      </button>\n",
              "      \n",
              "  <style>\n",
              "    .colab-df-container {\n",
              "      display:flex;\n",
              "      flex-wrap:wrap;\n",
              "      gap: 12px;\n",
              "    }\n",
              "\n",
              "    .colab-df-convert {\n",
              "      background-color: #E8F0FE;\n",
              "      border: none;\n",
              "      border-radius: 50%;\n",
              "      cursor: pointer;\n",
              "      display: none;\n",
              "      fill: #1967D2;\n",
              "      height: 32px;\n",
              "      padding: 0 0 0 0;\n",
              "      width: 32px;\n",
              "    }\n",
              "\n",
              "    .colab-df-convert:hover {\n",
              "      background-color: #E2EBFA;\n",
              "      box-shadow: 0px 1px 2px rgba(60, 64, 67, 0.3), 0px 1px 3px 1px rgba(60, 64, 67, 0.15);\n",
              "      fill: #174EA6;\n",
              "    }\n",
              "\n",
              "    [theme=dark] .colab-df-convert {\n",
              "      background-color: #3B4455;\n",
              "      fill: #D2E3FC;\n",
              "    }\n",
              "\n",
              "    [theme=dark] .colab-df-convert:hover {\n",
              "      background-color: #434B5C;\n",
              "      box-shadow: 0px 1px 3px 1px rgba(0, 0, 0, 0.15);\n",
              "      filter: drop-shadow(0px 1px 2px rgba(0, 0, 0, 0.3));\n",
              "      fill: #FFFFFF;\n",
              "    }\n",
              "  </style>\n",
              "\n",
              "      <script>\n",
              "        const buttonEl =\n",
              "          document.querySelector('#df-badefabb-1cf1-4d0e-aa6b-719710c0675e button.colab-df-convert');\n",
              "        buttonEl.style.display =\n",
              "          google.colab.kernel.accessAllowed ? 'block' : 'none';\n",
              "\n",
              "        async function convertToInteractive(key) {\n",
              "          const element = document.querySelector('#df-badefabb-1cf1-4d0e-aa6b-719710c0675e');\n",
              "          const dataTable =\n",
              "            await google.colab.kernel.invokeFunction('convertToInteractive',\n",
              "                                                     [key], {});\n",
              "          if (!dataTable) return;\n",
              "\n",
              "          const docLinkHtml = 'Like what you see? Visit the ' +\n",
              "            '<a target=\"_blank\" href=https://colab.research.google.com/notebooks/data_table.ipynb>data table notebook</a>'\n",
              "            + ' to learn more about interactive tables.';\n",
              "          element.innerHTML = '';\n",
              "          dataTable['output_type'] = 'display_data';\n",
              "          await google.colab.output.renderOutput(dataTable, element);\n",
              "          const docLink = document.createElement('div');\n",
              "          docLink.innerHTML = docLinkHtml;\n",
              "          element.appendChild(docLink);\n",
              "        }\n",
              "      </script>\n",
              "    </div>\n",
              "  </div>\n",
              "  "
            ]
          },
          "metadata": {},
          "execution_count": 71
        }
      ]
    },
    {
      "cell_type": "code",
      "source": [
        "#splitting\n",
        "X=df.iloc[:,:-1].values\n",
        "Y=df.iloc[:,-1:].values"
      ],
      "metadata": {
        "id": "_pLULAT5NY8g"
      },
      "execution_count": 72,
      "outputs": []
    },
    {
      "cell_type": "code",
      "source": [
        "from sklearn.model_selection import train_test_split\n",
        "X_train,X_test,Y_train,Y_test=train_test_split(X,Y,test_size=0.2,random_state=42)"
      ],
      "metadata": {
        "id": "707XeCHoyCh9"
      },
      "execution_count": 73,
      "outputs": []
    },
    {
      "cell_type": "code",
      "source": [
        "#normalize\n",
        "from sklearn.preprocessing import StandardScaler\n",
        "sst=StandardScaler()\n",
        "X_train=sst.fit_transform(X_train)#normalizing\n",
        "X_test=sst.transform(X_test)"
      ],
      "metadata": {
        "id": "fFllTIkzOd7E"
      },
      "execution_count": 74,
      "outputs": []
    },
    {
      "cell_type": "markdown",
      "source": [
        "\n",
        "\n",
        "```\n",
        "\n",
        "```\n",
        "\n",
        "Gaussian"
      ],
      "metadata": {
        "id": "24rZrBW0ULyh"
      }
    },
    {
      "cell_type": "code",
      "source": [
        "from sklearn.naive_bayes import GaussianNB\n",
        "gnb=GaussianNB()"
      ],
      "metadata": {
        "id": "UuolSnF-O0PX"
      },
      "execution_count": 75,
      "outputs": []
    },
    {
      "cell_type": "code",
      "source": [
        "\n",
        "gnb.fit(X_train,Y_train)"
      ],
      "metadata": {
        "colab": {
          "base_uri": "https://localhost:8080/",
          "height": 130
        },
        "id": "r4bnsmOKUiWL",
        "outputId": "9ff280cf-7240-47b7-a670-bd5e3fa7fe5c"
      },
      "execution_count": 76,
      "outputs": [
        {
          "output_type": "stream",
          "name": "stderr",
          "text": [
            "/usr/local/lib/python3.10/dist-packages/sklearn/utils/validation.py:1143: DataConversionWarning: A column-vector y was passed when a 1d array was expected. Please change the shape of y to (n_samples, ), for example using ravel().\n",
            "  y = column_or_1d(y, warn=True)\n"
          ]
        },
        {
          "output_type": "execute_result",
          "data": {
            "text/plain": [
              "GaussianNB()"
            ],
            "text/html": [
              "<style>#sk-container-id-3 {color: black;background-color: white;}#sk-container-id-3 pre{padding: 0;}#sk-container-id-3 div.sk-toggleable {background-color: white;}#sk-container-id-3 label.sk-toggleable__label {cursor: pointer;display: block;width: 100%;margin-bottom: 0;padding: 0.3em;box-sizing: border-box;text-align: center;}#sk-container-id-3 label.sk-toggleable__label-arrow:before {content: \"▸\";float: left;margin-right: 0.25em;color: #696969;}#sk-container-id-3 label.sk-toggleable__label-arrow:hover:before {color: black;}#sk-container-id-3 div.sk-estimator:hover label.sk-toggleable__label-arrow:before {color: black;}#sk-container-id-3 div.sk-toggleable__content {max-height: 0;max-width: 0;overflow: hidden;text-align: left;background-color: #f0f8ff;}#sk-container-id-3 div.sk-toggleable__content pre {margin: 0.2em;color: black;border-radius: 0.25em;background-color: #f0f8ff;}#sk-container-id-3 input.sk-toggleable__control:checked~div.sk-toggleable__content {max-height: 200px;max-width: 100%;overflow: auto;}#sk-container-id-3 input.sk-toggleable__control:checked~label.sk-toggleable__label-arrow:before {content: \"▾\";}#sk-container-id-3 div.sk-estimator input.sk-toggleable__control:checked~label.sk-toggleable__label {background-color: #d4ebff;}#sk-container-id-3 div.sk-label input.sk-toggleable__control:checked~label.sk-toggleable__label {background-color: #d4ebff;}#sk-container-id-3 input.sk-hidden--visually {border: 0;clip: rect(1px 1px 1px 1px);clip: rect(1px, 1px, 1px, 1px);height: 1px;margin: -1px;overflow: hidden;padding: 0;position: absolute;width: 1px;}#sk-container-id-3 div.sk-estimator {font-family: monospace;background-color: #f0f8ff;border: 1px dotted black;border-radius: 0.25em;box-sizing: border-box;margin-bottom: 0.5em;}#sk-container-id-3 div.sk-estimator:hover {background-color: #d4ebff;}#sk-container-id-3 div.sk-parallel-item::after {content: \"\";width: 100%;border-bottom: 1px solid gray;flex-grow: 1;}#sk-container-id-3 div.sk-label:hover label.sk-toggleable__label {background-color: #d4ebff;}#sk-container-id-3 div.sk-serial::before {content: \"\";position: absolute;border-left: 1px solid gray;box-sizing: border-box;top: 0;bottom: 0;left: 50%;z-index: 0;}#sk-container-id-3 div.sk-serial {display: flex;flex-direction: column;align-items: center;background-color: white;padding-right: 0.2em;padding-left: 0.2em;position: relative;}#sk-container-id-3 div.sk-item {position: relative;z-index: 1;}#sk-container-id-3 div.sk-parallel {display: flex;align-items: stretch;justify-content: center;background-color: white;position: relative;}#sk-container-id-3 div.sk-item::before, #sk-container-id-3 div.sk-parallel-item::before {content: \"\";position: absolute;border-left: 1px solid gray;box-sizing: border-box;top: 0;bottom: 0;left: 50%;z-index: -1;}#sk-container-id-3 div.sk-parallel-item {display: flex;flex-direction: column;z-index: 1;position: relative;background-color: white;}#sk-container-id-3 div.sk-parallel-item:first-child::after {align-self: flex-end;width: 50%;}#sk-container-id-3 div.sk-parallel-item:last-child::after {align-self: flex-start;width: 50%;}#sk-container-id-3 div.sk-parallel-item:only-child::after {width: 0;}#sk-container-id-3 div.sk-dashed-wrapped {border: 1px dashed gray;margin: 0 0.4em 0.5em 0.4em;box-sizing: border-box;padding-bottom: 0.4em;background-color: white;}#sk-container-id-3 div.sk-label label {font-family: monospace;font-weight: bold;display: inline-block;line-height: 1.2em;}#sk-container-id-3 div.sk-label-container {text-align: center;}#sk-container-id-3 div.sk-container {/* jupyter's `normalize.less` sets `[hidden] { display: none; }` but bootstrap.min.css set `[hidden] { display: none !important; }` so we also need the `!important` here to be able to override the default hidden behavior on the sphinx rendered scikit-learn.org. See: https://github.com/scikit-learn/scikit-learn/issues/21755 */display: inline-block !important;position: relative;}#sk-container-id-3 div.sk-text-repr-fallback {display: none;}</style><div id=\"sk-container-id-3\" class=\"sk-top-container\"><div class=\"sk-text-repr-fallback\"><pre>GaussianNB()</pre><b>In a Jupyter environment, please rerun this cell to show the HTML representation or trust the notebook. <br />On GitHub, the HTML representation is unable to render, please try loading this page with nbviewer.org.</b></div><div class=\"sk-container\" hidden><div class=\"sk-item\"><div class=\"sk-estimator sk-toggleable\"><input class=\"sk-toggleable__control sk-hidden--visually\" id=\"sk-estimator-id-3\" type=\"checkbox\" checked><label for=\"sk-estimator-id-3\" class=\"sk-toggleable__label sk-toggleable__label-arrow\">GaussianNB</label><div class=\"sk-toggleable__content\"><pre>GaussianNB()</pre></div></div></div></div></div>"
            ]
          },
          "metadata": {},
          "execution_count": 76
        }
      ]
    },
    {
      "cell_type": "code",
      "source": [
        "y_pred=gnb.predict(X_test)"
      ],
      "metadata": {
        "id": "hZ--a_TvVHSj"
      },
      "execution_count": 77,
      "outputs": []
    },
    {
      "cell_type": "code",
      "source": [
        "gnb_acc=gnb.score(X_train,Y_train)\n",
        "print('Training accuracy',gnb_acc)"
      ],
      "metadata": {
        "colab": {
          "base_uri": "https://localhost:8080/"
        },
        "id": "OuKSgepLemaI",
        "outputId": "81c3b987-fdd3-4026-f3cd-229c216072d6"
      },
      "execution_count": 78,
      "outputs": [
        {
          "output_type": "stream",
          "name": "stdout",
          "text": [
            "Training accuracy 0.8107476635514018\n"
          ]
        }
      ]
    },
    {
      "cell_type": "code",
      "source": [
        "gnb_acc=gnb.score(sst.transform(X),Y)\n",
        "print('Testing accuracy',gnb_acc)"
      ],
      "metadata": {
        "colab": {
          "base_uri": "https://localhost:8080/"
        },
        "id": "kukoiD6-fOhI",
        "outputId": "16e192f8-13c9-4a9e-e486-482afa043dda"
      },
      "execution_count": 79,
      "outputs": [
        {
          "output_type": "stream",
          "name": "stdout",
          "text": [
            "Testing accuracy 0.805607476635514\n"
          ]
        }
      ]
    },
    {
      "cell_type": "markdown",
      "source": [
        "K-Nearest Neighbour"
      ],
      "metadata": {
        "id": "9qVUHbIfgEpY"
      }
    },
    {
      "cell_type": "code",
      "source": [
        "import numpy as np"
      ],
      "metadata": {
        "id": "pANrzMo-gNP_"
      },
      "execution_count": 80,
      "outputs": []
    },
    {
      "cell_type": "code",
      "source": [
        "df.shape"
      ],
      "metadata": {
        "colab": {
          "base_uri": "https://localhost:8080/"
        },
        "id": "S8dqqK50kbCk",
        "outputId": "5d02237a-cf61-4e7e-e055-a63f553a24f8"
      },
      "execution_count": 81,
      "outputs": [
        {
          "output_type": "execute_result",
          "data": {
            "text/plain": [
              "(535, 11)"
            ]
          },
          "metadata": {},
          "execution_count": 81
        }
      ]
    },
    {
      "cell_type": "code",
      "source": [
        "math.sqrt(535)"
      ],
      "metadata": {
        "colab": {
          "base_uri": "https://localhost:8080/"
        },
        "id": "10ruh_EDnYsl",
        "outputId": "f47dde82-864e-4a7e-c189-aa38619fc8ac"
      },
      "execution_count": 82,
      "outputs": [
        {
          "output_type": "execute_result",
          "data": {
            "text/plain": [
              "23.130067012440755"
            ]
          },
          "metadata": {},
          "execution_count": 82
        }
      ]
    },
    {
      "cell_type": "code",
      "source": [
        "from sklearn.neighbors import   KNeighborsClassifier\n",
        "knn_clf= KNeighborsClassifier(n_neighbors=10)"
      ],
      "metadata": {
        "id": "tWOUC5D0hHgc"
      },
      "execution_count": 99,
      "outputs": []
    },
    {
      "cell_type": "code",
      "source": [
        "neighbors = np.arange(1,23)\n",
        "train_accuracy=np.empty(len(neighbors))\n",
        "test_accuracy=np.empty(len(neighbors))\n",
        "overall_accuracy=np.empty(len(neighbors))\n",
        "#Loop over K values\n",
        "for i,k in enumerate(neighbors):\n",
        "  knn=KNeighborsClassifier(n_neighbors=k)\n",
        "  knn.fit(X_train,Y_train)\n",
        "\n",
        "  #Compute the training and testing accuracy of ML model\n",
        "  train_accuracy[i]=knn.score(X_train,Y_train)\n",
        "  test_accuracy[i]=knn.score(X_test,Y_test)\n",
        "\n",
        "  #overall score\n",
        "  overall_accuracy[i]=knn.score(sst.transform(X),Y)\n",
        "\n",
        "import matplotlib.pyplot as plt\n",
        "plt.plot(neighbors,train_accuracy,label='Training dataset accuracy')\n",
        "plt.plot(neighbors,test_accuracy,label='Testing dataset accuracy')\n",
        "plt.plot(neighbors,overall_accuracy,label='overall dataset accuracy')\n",
        "plt.legend()\n",
        "plt.xlabel('k values - n neighbors')\n",
        "plt.ylabel(\"Accuracies\")\n",
        "plt.show()\n"
      ],
      "metadata": {
        "colab": {
          "base_uri": "https://localhost:8080/",
          "height": 1000
        },
        "id": "J8UzS5Yyfmy0",
        "outputId": "77a64edb-dc71-4ee2-cddc-8fb3e0b5f1bb"
      },
      "execution_count": 84,
      "outputs": [
        {
          "output_type": "stream",
          "name": "stderr",
          "text": [
            "/usr/local/lib/python3.10/dist-packages/sklearn/neighbors/_classification.py:215: DataConversionWarning: A column-vector y was passed when a 1d array was expected. Please change the shape of y to (n_samples,), for example using ravel().\n",
            "  return self._fit(X, y)\n",
            "/usr/local/lib/python3.10/dist-packages/sklearn/neighbors/_classification.py:215: DataConversionWarning: A column-vector y was passed when a 1d array was expected. Please change the shape of y to (n_samples,), for example using ravel().\n",
            "  return self._fit(X, y)\n",
            "/usr/local/lib/python3.10/dist-packages/sklearn/neighbors/_classification.py:215: DataConversionWarning: A column-vector y was passed when a 1d array was expected. Please change the shape of y to (n_samples,), for example using ravel().\n",
            "  return self._fit(X, y)\n",
            "/usr/local/lib/python3.10/dist-packages/sklearn/neighbors/_classification.py:215: DataConversionWarning: A column-vector y was passed when a 1d array was expected. Please change the shape of y to (n_samples,), for example using ravel().\n",
            "  return self._fit(X, y)\n",
            "/usr/local/lib/python3.10/dist-packages/sklearn/neighbors/_classification.py:215: DataConversionWarning: A column-vector y was passed when a 1d array was expected. Please change the shape of y to (n_samples,), for example using ravel().\n",
            "  return self._fit(X, y)\n",
            "/usr/local/lib/python3.10/dist-packages/sklearn/neighbors/_classification.py:215: DataConversionWarning: A column-vector y was passed when a 1d array was expected. Please change the shape of y to (n_samples,), for example using ravel().\n",
            "  return self._fit(X, y)\n",
            "/usr/local/lib/python3.10/dist-packages/sklearn/neighbors/_classification.py:215: DataConversionWarning: A column-vector y was passed when a 1d array was expected. Please change the shape of y to (n_samples,), for example using ravel().\n",
            "  return self._fit(X, y)\n",
            "/usr/local/lib/python3.10/dist-packages/sklearn/neighbors/_classification.py:215: DataConversionWarning: A column-vector y was passed when a 1d array was expected. Please change the shape of y to (n_samples,), for example using ravel().\n",
            "  return self._fit(X, y)\n",
            "/usr/local/lib/python3.10/dist-packages/sklearn/neighbors/_classification.py:215: DataConversionWarning: A column-vector y was passed when a 1d array was expected. Please change the shape of y to (n_samples,), for example using ravel().\n",
            "  return self._fit(X, y)\n",
            "/usr/local/lib/python3.10/dist-packages/sklearn/neighbors/_classification.py:215: DataConversionWarning: A column-vector y was passed when a 1d array was expected. Please change the shape of y to (n_samples,), for example using ravel().\n",
            "  return self._fit(X, y)\n",
            "/usr/local/lib/python3.10/dist-packages/sklearn/neighbors/_classification.py:215: DataConversionWarning: A column-vector y was passed when a 1d array was expected. Please change the shape of y to (n_samples,), for example using ravel().\n",
            "  return self._fit(X, y)\n",
            "/usr/local/lib/python3.10/dist-packages/sklearn/neighbors/_classification.py:215: DataConversionWarning: A column-vector y was passed when a 1d array was expected. Please change the shape of y to (n_samples,), for example using ravel().\n",
            "  return self._fit(X, y)\n",
            "/usr/local/lib/python3.10/dist-packages/sklearn/neighbors/_classification.py:215: DataConversionWarning: A column-vector y was passed when a 1d array was expected. Please change the shape of y to (n_samples,), for example using ravel().\n",
            "  return self._fit(X, y)\n",
            "/usr/local/lib/python3.10/dist-packages/sklearn/neighbors/_classification.py:215: DataConversionWarning: A column-vector y was passed when a 1d array was expected. Please change the shape of y to (n_samples,), for example using ravel().\n",
            "  return self._fit(X, y)\n",
            "/usr/local/lib/python3.10/dist-packages/sklearn/neighbors/_classification.py:215: DataConversionWarning: A column-vector y was passed when a 1d array was expected. Please change the shape of y to (n_samples,), for example using ravel().\n",
            "  return self._fit(X, y)\n",
            "/usr/local/lib/python3.10/dist-packages/sklearn/neighbors/_classification.py:215: DataConversionWarning: A column-vector y was passed when a 1d array was expected. Please change the shape of y to (n_samples,), for example using ravel().\n",
            "  return self._fit(X, y)\n",
            "/usr/local/lib/python3.10/dist-packages/sklearn/neighbors/_classification.py:215: DataConversionWarning: A column-vector y was passed when a 1d array was expected. Please change the shape of y to (n_samples,), for example using ravel().\n",
            "  return self._fit(X, y)\n",
            "/usr/local/lib/python3.10/dist-packages/sklearn/neighbors/_classification.py:215: DataConversionWarning: A column-vector y was passed when a 1d array was expected. Please change the shape of y to (n_samples,), for example using ravel().\n",
            "  return self._fit(X, y)\n",
            "/usr/local/lib/python3.10/dist-packages/sklearn/neighbors/_classification.py:215: DataConversionWarning: A column-vector y was passed when a 1d array was expected. Please change the shape of y to (n_samples,), for example using ravel().\n",
            "  return self._fit(X, y)\n",
            "/usr/local/lib/python3.10/dist-packages/sklearn/neighbors/_classification.py:215: DataConversionWarning: A column-vector y was passed when a 1d array was expected. Please change the shape of y to (n_samples,), for example using ravel().\n",
            "  return self._fit(X, y)\n",
            "/usr/local/lib/python3.10/dist-packages/sklearn/neighbors/_classification.py:215: DataConversionWarning: A column-vector y was passed when a 1d array was expected. Please change the shape of y to (n_samples,), for example using ravel().\n",
            "  return self._fit(X, y)\n",
            "/usr/local/lib/python3.10/dist-packages/sklearn/neighbors/_classification.py:215: DataConversionWarning: A column-vector y was passed when a 1d array was expected. Please change the shape of y to (n_samples,), for example using ravel().\n",
            "  return self._fit(X, y)\n"
          ]
        },
        {
          "output_type": "display_data",
          "data": {
            "text/plain": [
              "<Figure size 640x480 with 1 Axes>"
            ],
            "image/png": "[encoded data removed]"
          },
          "metadata": {}
        }
      ]
    },
    {
      "cell_type": "code",
      "source": [
        "knn_clf.fit(X_train,Y_train)"
      ],
      "metadata": {
        "colab": {
          "base_uri": "https://localhost:8080/",
          "height": 130
        },
        "id": "SfSIbpPkffGF",
        "outputId": "78556f3e-bb00-4edf-9961-0af6aa0bd2be"
      },
      "execution_count": 100,
      "outputs": [
        {
          "output_type": "stream",
          "name": "stderr",
          "text": [
            "/usr/local/lib/python3.10/dist-packages/sklearn/neighbors/_classification.py:215: DataConversionWarning: A column-vector y was passed when a 1d array was expected. Please change the shape of y to (n_samples,), for example using ravel().\n",
            "  return self._fit(X, y)\n"
          ]
        },
        {
          "output_type": "execute_result",
          "data": {
            "text/plain": [
              "KNeighborsClassifier(n_neighbors=10)"
            ],
            "text/html": [
              "<style>#sk-container-id-7 {color: black;background-color: white;}#sk-container-id-7 pre{padding: 0;}#sk-container-id-7 div.sk-toggleable {background-color: white;}#sk-container-id-7 label.sk-toggleable__label {cursor: pointer;display: block;width: 100%;margin-bottom: 0;padding: 0.3em;box-sizing: border-box;text-align: center;}#sk-container-id-7 label.sk-toggleable__label-arrow:before {content: \"▸\";float: left;margin-right: 0.25em;color: #696969;}#sk-container-id-7 label.sk-toggleable__label-arrow:hover:before {color: black;}#sk-container-id-7 div.sk-estimator:hover label.sk-toggleable__label-arrow:before {color: black;}#sk-container-id-7 div.sk-toggleable__content {max-height: 0;max-width: 0;overflow: hidden;text-align: left;background-color: #f0f8ff;}#sk-container-id-7 div.sk-toggleable__content pre {margin: 0.2em;color: black;border-radius: 0.25em;background-color: #f0f8ff;}#sk-container-id-7 input.sk-toggleable__control:checked~div.sk-toggleable__content {max-height: 200px;max-width: 100%;overflow: auto;}#sk-container-id-7 input.sk-toggleable__control:checked~label.sk-toggleable__label-arrow:before {content: \"▾\";}#sk-container-id-7 div.sk-estimator input.sk-toggleable__control:checked~label.sk-toggleable__label {background-color: #d4ebff;}#sk-container-id-7 div.sk-label input.sk-toggleable__control:checked~label.sk-toggleable__label {background-color: #d4ebff;}#sk-container-id-7 input.sk-hidden--visually {border: 0;clip: rect(1px 1px 1px 1px);clip: rect(1px, 1px, 1px, 1px);height: 1px;margin: -1px;overflow: hidden;padding: 0;position: absolute;width: 1px;}#sk-container-id-7 div.sk-estimator {font-family: monospace;background-color: #f0f8ff;border: 1px dotted black;border-radius: 0.25em;box-sizing: border-box;margin-bottom: 0.5em;}#sk-container-id-7 div.sk-estimator:hover {background-color: #d4ebff;}#sk-container-id-7 div.sk-parallel-item::after {content: \"\";width: 100%;border-bottom: 1px solid gray;flex-grow: 1;}#sk-container-id-7 div.sk-label:hover label.sk-toggleable__label {background-color: #d4ebff;}#sk-container-id-7 div.sk-serial::before {content: \"\";position: absolute;border-left: 1px solid gray;box-sizing: border-box;top: 0;bottom: 0;left: 50%;z-index: 0;}#sk-container-id-7 div.sk-serial {display: flex;flex-direction: column;align-items: center;background-color: white;padding-right: 0.2em;padding-left: 0.2em;position: relative;}#sk-container-id-7 div.sk-item {position: relative;z-index: 1;}#sk-container-id-7 div.sk-parallel {display: flex;align-items: stretch;justify-content: center;background-color: white;position: relative;}#sk-container-id-7 div.sk-item::before, #sk-container-id-7 div.sk-parallel-item::before {content: \"\";position: absolute;border-left: 1px solid gray;box-sizing: border-box;top: 0;bottom: 0;left: 50%;z-index: -1;}#sk-container-id-7 div.sk-parallel-item {display: flex;flex-direction: column;z-index: 1;position: relative;background-color: white;}#sk-container-id-7 div.sk-parallel-item:first-child::after {align-self: flex-end;width: 50%;}#sk-container-id-7 div.sk-parallel-item:last-child::after {align-self: flex-start;width: 50%;}#sk-container-id-7 div.sk-parallel-item:only-child::after {width: 0;}#sk-container-id-7 div.sk-dashed-wrapped {border: 1px dashed gray;margin: 0 0.4em 0.5em 0.4em;box-sizing: border-box;padding-bottom: 0.4em;background-color: white;}#sk-container-id-7 div.sk-label label {font-family: monospace;font-weight: bold;display: inline-block;line-height: 1.2em;}#sk-container-id-7 div.sk-label-container {text-align: center;}#sk-container-id-7 div.sk-container {/* jupyter's `normalize.less` sets `[hidden] { display: none; }` but bootstrap.min.css set `[hidden] { display: none !important; }` so we also need the `!important` here to be able to override the default hidden behavior on the sphinx rendered scikit-learn.org. See: https://github.com/scikit-learn/scikit-learn/issues/21755 */display: inline-block !important;position: relative;}#sk-container-id-7 div.sk-text-repr-fallback {display: none;}</style><div id=\"sk-container-id-7\" class=\"sk-top-container\"><div class=\"sk-text-repr-fallback\"><pre>KNeighborsClassifier(n_neighbors=10)</pre><b>In a Jupyter environment, please rerun this cell to show the HTML representation or trust the notebook. <br />On GitHub, the HTML representation is unable to render, please try loading this page with nbviewer.org.</b></div><div class=\"sk-container\" hidden><div class=\"sk-item\"><div class=\"sk-estimator sk-toggleable\"><input class=\"sk-toggleable__control sk-hidden--visually\" id=\"sk-estimator-id-7\" type=\"checkbox\" checked><label for=\"sk-estimator-id-7\" class=\"sk-toggleable__label sk-toggleable__label-arrow\">KNeighborsClassifier</label><div class=\"sk-toggleable__content\"><pre>KNeighborsClassifier(n_neighbors=10)</pre></div></div></div></div></div>"
            ]
          },
          "metadata": {},
          "execution_count": 100
        }
      ]
    },
    {
      "cell_type": "code",
      "source": [
        "y_pred=knn_clf.predict(X_test)"
      ],
      "metadata": {
        "id": "dBAxToXUhlRh"
      },
      "execution_count": 101,
      "outputs": []
    },
    {
      "cell_type": "code",
      "source": [
        "knn_acc=knn_clf.score(X_train,Y_train)\n",
        "print('training accuracy',knn_acc)"
      ],
      "metadata": {
        "colab": {
          "base_uri": "https://localhost:8080/"
        },
        "id": "hWkPO_Rmhn2s",
        "outputId": "7500b4e2-af7b-420c-b4b3-13c12b053cc2"
      },
      "execution_count": 102,
      "outputs": [
        {
          "output_type": "stream",
          "name": "stdout",
          "text": [
            "0.8200934579439252\n"
          ]
        }
      ]
    },
    {
      "cell_type": "code",
      "source": [
        "knn_acc=knn_clf.score(sst.transform(X),Y)\n",
        "print('testing accuracy',knn_acc)"
      ],
      "metadata": {
        "colab": {
          "base_uri": "https://localhost:8080/"
        },
        "id": "qSdM74mqhyKu",
        "outputId": "909cf0dd-afae-4bde-b489-4656a1dacd9b"
      },
      "execution_count": 103,
      "outputs": [
        {
          "output_type": "stream",
          "name": "stdout",
          "text": [
            "0.8168224299065421\n"
          ]
        }
      ]
    },
    {
      "cell_type": "markdown",
      "source": [
        "Logistic Regression"
      ],
      "metadata": {
        "id": "FuCT5wI8iaVm"
      }
    },
    {
      "cell_type": "code",
      "source": [
        "from sklearn.linear_model import LogisticRegression\n",
        "lgr=LogisticRegression()"
      ],
      "metadata": {
        "id": "9Vsi9Iq9iB5a"
      },
      "execution_count": 104,
      "outputs": []
    },
    {
      "cell_type": "code",
      "source": [
        "lgr.fit(X_train,Y_train)"
      ],
      "metadata": {
        "colab": {
          "base_uri": "https://localhost:8080/",
          "height": 130
        },
        "id": "SG-Mu7eqiuP2",
        "outputId": "f5ba8c6e-867b-4223-ebcc-f1f06ef9b53d"
      },
      "execution_count": 105,
      "outputs": [
        {
          "output_type": "stream",
          "name": "stderr",
          "text": [
            "/usr/local/lib/python3.10/dist-packages/sklearn/utils/validation.py:1143: DataConversionWarning: A column-vector y was passed when a 1d array was expected. Please change the shape of y to (n_samples, ), for example using ravel().\n",
            "  y = column_or_1d(y, warn=True)\n"
          ]
        },
        {
          "output_type": "execute_result",
          "data": {
            "text/plain": [
              "LogisticRegression()"
            ],
            "text/html": [
              "<style>#sk-container-id-8 {color: black;background-color: white;}#sk-container-id-8 pre{padding: 0;}#sk-container-id-8 div.sk-toggleable {background-color: white;}#sk-container-id-8 label.sk-toggleable__label {cursor: pointer;display: block;width: 100%;margin-bottom: 0;padding: 0.3em;box-sizing: border-box;text-align: center;}#sk-container-id-8 label.sk-toggleable__label-arrow:before {content: \"▸\";float: left;margin-right: 0.25em;color: #696969;}#sk-container-id-8 label.sk-toggleable__label-arrow:hover:before {color: black;}#sk-container-id-8 div.sk-estimator:hover label.sk-toggleable__label-arrow:before {color: black;}#sk-container-id-8 div.sk-toggleable__content {max-height: 0;max-width: 0;overflow: hidden;text-align: left;background-color: #f0f8ff;}#sk-container-id-8 div.sk-toggleable__content pre {margin: 0.2em;color: black;border-radius: 0.25em;background-color: #f0f8ff;}#sk-container-id-8 input.sk-toggleable__control:checked~div.sk-toggleable__content {max-height: 200px;max-width: 100%;overflow: auto;}#sk-container-id-8 input.sk-toggleable__control:checked~label.sk-toggleable__label-arrow:before {content: \"▾\";}#sk-container-id-8 div.sk-estimator input.sk-toggleable__control:checked~label.sk-toggleable__label {background-color: #d4ebff;}#sk-container-id-8 div.sk-label input.sk-toggleable__control:checked~label.sk-toggleable__label {background-color: #d4ebff;}#sk-container-id-8 input.sk-hidden--visually {border: 0;clip: rect(1px 1px 1px 1px);clip: rect(1px, 1px, 1px, 1px);height: 1px;margin: -1px;overflow: hidden;padding: 0;position: absolute;width: 1px;}#sk-container-id-8 div.sk-estimator {font-family: monospace;background-color: #f0f8ff;border: 1px dotted black;border-radius: 0.25em;box-sizing: border-box;margin-bottom: 0.5em;}#sk-container-id-8 div.sk-estimator:hover {background-color: #d4ebff;}#sk-container-id-8 div.sk-parallel-item::after {content: \"\";width: 100%;border-bottom: 1px solid gray;flex-grow: 1;}#sk-container-id-8 div.sk-label:hover label.sk-toggleable__label {background-color: #d4ebff;}#sk-container-id-8 div.sk-serial::before {content: \"\";position: absolute;border-left: 1px solid gray;box-sizing: border-box;top: 0;bottom: 0;left: 50%;z-index: 0;}#sk-container-id-8 div.sk-serial {display: flex;flex-direction: column;align-items: center;background-color: white;padding-right: 0.2em;padding-left: 0.2em;position: relative;}#sk-container-id-8 div.sk-item {position: relative;z-index: 1;}#sk-container-id-8 div.sk-parallel {display: flex;align-items: stretch;justify-content: center;background-color: white;position: relative;}#sk-container-id-8 div.sk-item::before, #sk-container-id-8 div.sk-parallel-item::before {content: \"\";position: absolute;border-left: 1px solid gray;box-sizing: border-box;top: 0;bottom: 0;left: 50%;z-index: -1;}#sk-container-id-8 div.sk-parallel-item {display: flex;flex-direction: column;z-index: 1;position: relative;background-color: white;}#sk-container-id-8 div.sk-parallel-item:first-child::after {align-self: flex-end;width: 50%;}#sk-container-id-8 div.sk-parallel-item:last-child::after {align-self: flex-start;width: 50%;}#sk-container-id-8 div.sk-parallel-item:only-child::after {width: 0;}#sk-container-id-8 div.sk-dashed-wrapped {border: 1px dashed gray;margin: 0 0.4em 0.5em 0.4em;box-sizing: border-box;padding-bottom: 0.4em;background-color: white;}#sk-container-id-8 div.sk-label label {font-family: monospace;font-weight: bold;display: inline-block;line-height: 1.2em;}#sk-container-id-8 div.sk-label-container {text-align: center;}#sk-container-id-8 div.sk-container {/* jupyter's `normalize.less` sets `[hidden] { display: none; }` but bootstrap.min.css set `[hidden] { display: none !important; }` so we also need the `!important` here to be able to override the default hidden behavior on the sphinx rendered scikit-learn.org. See: https://github.com/scikit-learn/scikit-learn/issues/21755 */display: inline-block !important;position: relative;}#sk-container-id-8 div.sk-text-repr-fallback {display: none;}</style><div id=\"sk-container-id-8\" class=\"sk-top-container\"><div class=\"sk-text-repr-fallback\"><pre>LogisticRegression()</pre><b>In a Jupyter environment, please rerun this cell to show the HTML representation or trust the notebook. <br />On GitHub, the HTML representation is unable to render, please try loading this page with nbviewer.org.</b></div><div class=\"sk-container\" hidden><div class=\"sk-item\"><div class=\"sk-estimator sk-toggleable\"><input class=\"sk-toggleable__control sk-hidden--visually\" id=\"sk-estimator-id-8\" type=\"checkbox\" checked><label for=\"sk-estimator-id-8\" class=\"sk-toggleable__label sk-toggleable__label-arrow\">LogisticRegression</label><div class=\"sk-toggleable__content\"><pre>LogisticRegression()</pre></div></div></div></div></div>"
            ]
          },
          "metadata": {},
          "execution_count": 105
        }
      ]
    },
    {
      "cell_type": "code",
      "source": [
        "y_pred=lgr.predict(X_test)"
      ],
      "metadata": {
        "id": "D71oNDVVi0pl"
      },
      "execution_count": 106,
      "outputs": []
    },
    {
      "cell_type": "code",
      "source": [
        "lgr_acc=lgr.score(X_train,Y_train)\n",
        "print('training accuracy',lgr_acc)"
      ],
      "metadata": {
        "colab": {
          "base_uri": "https://localhost:8080/"
        },
        "id": "JQRvwDcei_Pu",
        "outputId": "3e0075e0-6136-4dd6-d020-927422d6852c"
      },
      "execution_count": 110,
      "outputs": [
        {
          "output_type": "stream",
          "name": "stdout",
          "text": [
            "training accuracy 0.8154205607476636\n"
          ]
        }
      ]
    },
    {
      "cell_type": "code",
      "source": [
        "lgr_acc=lgr.score(sst.transform(X),Y)\n",
        "print('testing accuracy',lgr_acc)"
      ],
      "metadata": {
        "colab": {
          "base_uri": "https://localhost:8080/"
        },
        "id": "Fi-DKw91jFLS",
        "outputId": "c5d1ef4d-ce2a-4135-a361-b0cc10b5d5c7"
      },
      "execution_count": 111,
      "outputs": [
        {
          "output_type": "stream",
          "name": "stdout",
          "text": [
            "testing accuracy 0.8130841121495327\n"
          ]
        }
      ]
    },
    {
      "cell_type": "markdown",
      "source": [
        "Decision Tree"
      ],
      "metadata": {
        "id": "oQvTONkfjaEo"
      }
    },
    {
      "cell_type": "code",
      "source": [
        "from sklearn.tree import DecisionTreeClassifier\n",
        "dt=DecisionTreeClassifier()"
      ],
      "metadata": {
        "id": "VXRzcDcZjUIQ"
      },
      "execution_count": 112,
      "outputs": []
    },
    {
      "cell_type": "code",
      "source": [
        "dt.fit(X_train,Y_train)"
      ],
      "metadata": {
        "colab": {
          "base_uri": "https://localhost:8080/",
          "height": 74
        },
        "id": "4xIW6c27jgDa",
        "outputId": "9d1c0447-ad47-41b2-c3db-eecd85d6d431"
      },
      "execution_count": 113,
      "outputs": [
        {
          "output_type": "execute_result",
          "data": {
            "text/plain": [
              "DecisionTreeClassifier()"
            ],
            "text/html": [
              "<style>#sk-container-id-9 {color: black;background-color: white;}#sk-container-id-9 pre{padding: 0;}#sk-container-id-9 div.sk-toggleable {background-color: white;}#sk-container-id-9 label.sk-toggleable__label {cursor: pointer;display: block;width: 100%;margin-bottom: 0;padding: 0.3em;box-sizing: border-box;text-align: center;}#sk-container-id-9 label.sk-toggleable__label-arrow:before {content: \"▸\";float: left;margin-right: 0.25em;color: #696969;}#sk-container-id-9 label.sk-toggleable__label-arrow:hover:before {color: black;}#sk-container-id-9 div.sk-estimator:hover label.sk-toggleable__label-arrow:before {color: black;}#sk-container-id-9 div.sk-toggleable__content {max-height: 0;max-width: 0;overflow: hidden;text-align: left;background-color: #f0f8ff;}#sk-container-id-9 div.sk-toggleable__content pre {margin: 0.2em;color: black;border-radius: 0.25em;background-color: #f0f8ff;}#sk-container-id-9 input.sk-toggleable__control:checked~div.sk-toggleable__content {max-height: 200px;max-width: 100%;overflow: auto;}#sk-container-id-9 input.sk-toggleable__control:checked~label.sk-toggleable__label-arrow:before {content: \"▾\";}#sk-container-id-9 div.sk-estimator input.sk-toggleable__control:checked~label.sk-toggleable__label {background-color: #d4ebff;}#sk-container-id-9 div.sk-label input.sk-toggleable__control:checked~label.sk-toggleable__label {background-color: #d4ebff;}#sk-container-id-9 input.sk-hidden--visually {border: 0;clip: rect(1px 1px 1px 1px);clip: rect(1px, 1px, 1px, 1px);height: 1px;margin: -1px;overflow: hidden;padding: 0;position: absolute;width: 1px;}#sk-container-id-9 div.sk-estimator {font-family: monospace;background-color: #f0f8ff;border: 1px dotted black;border-radius: 0.25em;box-sizing: border-box;margin-bottom: 0.5em;}#sk-container-id-9 div.sk-estimator:hover {background-color: #d4ebff;}#sk-container-id-9 div.sk-parallel-item::after {content: \"\";width: 100%;border-bottom: 1px solid gray;flex-grow: 1;}#sk-container-id-9 div.sk-label:hover label.sk-toggleable__label {background-color: #d4ebff;}#sk-container-id-9 div.sk-serial::before {content: \"\";position: absolute;border-left: 1px solid gray;box-sizing: border-box;top: 0;bottom: 0;left: 50%;z-index: 0;}#sk-container-id-9 div.sk-serial {display: flex;flex-direction: column;align-items: center;background-color: white;padding-right: 0.2em;padding-left: 0.2em;position: relative;}#sk-container-id-9 div.sk-item {position: relative;z-index: 1;}#sk-container-id-9 div.sk-parallel {display: flex;align-items: stretch;justify-content: center;background-color: white;position: relative;}#sk-container-id-9 div.sk-item::before, #sk-container-id-9 div.sk-parallel-item::before {content: \"\";position: absolute;border-left: 1px solid gray;box-sizing: border-box;top: 0;bottom: 0;left: 50%;z-index: -1;}#sk-container-id-9 div.sk-parallel-item {display: flex;flex-direction: column;z-index: 1;position: relative;background-color: white;}#sk-container-id-9 div.sk-parallel-item:first-child::after {align-self: flex-end;width: 50%;}#sk-container-id-9 div.sk-parallel-item:last-child::after {align-self: flex-start;width: 50%;}#sk-container-id-9 div.sk-parallel-item:only-child::after {width: 0;}#sk-container-id-9 div.sk-dashed-wrapped {border: 1px dashed gray;margin: 0 0.4em 0.5em 0.4em;box-sizing: border-box;padding-bottom: 0.4em;background-color: white;}#sk-container-id-9 div.sk-label label {font-family: monospace;font-weight: bold;display: inline-block;line-height: 1.2em;}#sk-container-id-9 div.sk-label-container {text-align: center;}#sk-container-id-9 div.sk-container {/* jupyter's `normalize.less` sets `[hidden] { display: none; }` but bootstrap.min.css set `[hidden] { display: none !important; }` so we also need the `!important` here to be able to override the default hidden behavior on the sphinx rendered scikit-learn.org. See: https://github.com/scikit-learn/scikit-learn/issues/21755 */display: inline-block !important;position: relative;}#sk-container-id-9 div.sk-text-repr-fallback {display: none;}</style><div id=\"sk-container-id-9\" class=\"sk-top-container\"><div class=\"sk-text-repr-fallback\"><pre>DecisionTreeClassifier()</pre><b>In a Jupyter environment, please rerun this cell to show the HTML representation or trust the notebook. <br />On GitHub, the HTML representation is unable to render, please try loading this page with nbviewer.org.</b></div><div class=\"sk-container\" hidden><div class=\"sk-item\"><div class=\"sk-estimator sk-toggleable\"><input class=\"sk-toggleable__control sk-hidden--visually\" id=\"sk-estimator-id-9\" type=\"checkbox\" checked><label for=\"sk-estimator-id-9\" class=\"sk-toggleable__label sk-toggleable__label-arrow\">DecisionTreeClassifier</label><div class=\"sk-toggleable__content\"><pre>DecisionTreeClassifier()</pre></div></div></div></div></div>"
            ]
          },
          "metadata": {},
          "execution_count": 113
        }
      ]
    },
    {
      "cell_type": "code",
      "source": [
        "y_pred=dt.predict(X_test)"
      ],
      "metadata": {
        "id": "Hb_0kdzvjmAt"
      },
      "execution_count": 114,
      "outputs": []
    },
    {
      "cell_type": "code",
      "source": [
        "dt_acc=dt.score(X_train,Y_train)\n",
        "print('training accuracy',dt_acc)"
      ],
      "metadata": {
        "colab": {
          "base_uri": "https://localhost:8080/"
        },
        "id": "96NM3z_ojsaA",
        "outputId": "e7c73715-7813-4370-de72-4a5a9269eb70"
      },
      "execution_count": 115,
      "outputs": [
        {
          "output_type": "stream",
          "name": "stdout",
          "text": [
            "training accuracy 1.0\n"
          ]
        }
      ]
    },
    {
      "cell_type": "code",
      "source": [
        "dt_acc=dt.score(sst.transform(X),Y)\n",
        "print('testing accuracy',dt_acc)"
      ],
      "metadata": {
        "colab": {
          "base_uri": "https://localhost:8080/"
        },
        "id": "i5C9wM-Kjzh3",
        "outputId": "9df4dc54-5911-4dff-c3a9-f9c66e192094"
      },
      "execution_count": 116,
      "outputs": [
        {
          "output_type": "stream",
          "name": "stdout",
          "text": [
            "testing accuracy 0.9401869158878504\n"
          ]
        }
      ]
    },
    {
      "cell_type": "markdown",
      "source": [
        "RandomForest"
      ],
      "metadata": {
        "id": "ntJwwlVMkGHx"
      }
    },
    {
      "cell_type": "code",
      "source": [
        "from sklearn.ensemble import RandomForestClassifier\n",
        "rf=RandomForestClassifier()"
      ],
      "metadata": {
        "id": "pvtXVOwhkBRx"
      },
      "execution_count": 117,
      "outputs": []
    },
    {
      "cell_type": "code",
      "source": [
        "rf.fit(X_train,Y_train)"
      ],
      "metadata": {
        "colab": {
          "base_uri": "https://localhost:8080/",
          "height": 130
        },
        "id": "_yQQzZ3ukMNN",
        "outputId": "74348517-827e-472a-df18-c33d08fad68e"
      },
      "execution_count": 118,
      "outputs": [
        {
          "output_type": "stream",
          "name": "stderr",
          "text": [
            "<ipython-input-118-70917fd5b97b>:1: DataConversionWarning: A column-vector y was passed when a 1d array was expected. Please change the shape of y to (n_samples,), for example using ravel().\n",
            "  rf.fit(X_train,Y_train)\n"
          ]
        },
        {
          "output_type": "execute_result",
          "data": {
            "text/plain": [
              "RandomForestClassifier()"
            ],
            "text/html": [
              "<style>#sk-container-id-10 {color: black;background-color: white;}#sk-container-id-10 pre{padding: 0;}#sk-container-id-10 div.sk-toggleable {background-color: white;}#sk-container-id-10 label.sk-toggleable__label {cursor: pointer;display: block;width: 100%;margin-bottom: 0;padding: 0.3em;box-sizing: border-box;text-align: center;}#sk-container-id-10 label.sk-toggleable__label-arrow:before {content: \"▸\";float: left;margin-right: 0.25em;color: #696969;}#sk-container-id-10 label.sk-toggleable__label-arrow:hover:before {color: black;}#sk-container-id-10 div.sk-estimator:hover label.sk-toggleable__label-arrow:before {color: black;}#sk-container-id-10 div.sk-toggleable__content {max-height: 0;max-width: 0;overflow: hidden;text-align: left;background-color: #f0f8ff;}#sk-container-id-10 div.sk-toggleable__content pre {margin: 0.2em;color: black;border-radius: 0.25em;background-color: #f0f8ff;}#sk-container-id-10 input.sk-toggleable__control:checked~div.sk-toggleable__content {max-height: 200px;max-width: 100%;overflow: auto;}#sk-container-id-10 input.sk-toggleable__control:checked~label.sk-toggleable__label-arrow:before {content: \"▾\";}#sk-container-id-10 div.sk-estimator input.sk-toggleable__control:checked~label.sk-toggleable__label {background-color: #d4ebff;}#sk-container-id-10 div.sk-label input.sk-toggleable__control:checked~label.sk-toggleable__label {background-color: #d4ebff;}#sk-container-id-10 input.sk-hidden--visually {border: 0;clip: rect(1px 1px 1px 1px);clip: rect(1px, 1px, 1px, 1px);height: 1px;margin: -1px;overflow: hidden;padding: 0;position: absolute;width: 1px;}#sk-container-id-10 div.sk-estimator {font-family: monospace;background-color: #f0f8ff;border: 1px dotted black;border-radius: 0.25em;box-sizing: border-box;margin-bottom: 0.5em;}#sk-container-id-10 div.sk-estimator:hover {background-color: #d4ebff;}#sk-container-id-10 div.sk-parallel-item::after {content: \"\";width: 100%;border-bottom: 1px solid gray;flex-grow: 1;}#sk-container-id-10 div.sk-label:hover label.sk-toggleable__label {background-color: #d4ebff;}#sk-container-id-10 div.sk-serial::before {content: \"\";position: absolute;border-left: 1px solid gray;box-sizing: border-box;top: 0;bottom: 0;left: 50%;z-index: 0;}#sk-container-id-10 div.sk-serial {display: flex;flex-direction: column;align-items: center;background-color: white;padding-right: 0.2em;padding-left: 0.2em;position: relative;}#sk-container-id-10 div.sk-item {position: relative;z-index: 1;}#sk-container-id-10 div.sk-parallel {display: flex;align-items: stretch;justify-content: center;background-color: white;position: relative;}#sk-container-id-10 div.sk-item::before, #sk-container-id-10 div.sk-parallel-item::before {content: \"\";position: absolute;border-left: 1px solid gray;box-sizing: border-box;top: 0;bottom: 0;left: 50%;z-index: -1;}#sk-container-id-10 div.sk-parallel-item {display: flex;flex-direction: column;z-index: 1;position: relative;background-color: white;}#sk-container-id-10 div.sk-parallel-item:first-child::after {align-self: flex-end;width: 50%;}#sk-container-id-10 div.sk-parallel-item:last-child::after {align-self: flex-start;width: 50%;}#sk-container-id-10 div.sk-parallel-item:only-child::after {width: 0;}#sk-container-id-10 div.sk-dashed-wrapped {border: 1px dashed gray;margin: 0 0.4em 0.5em 0.4em;box-sizing: border-box;padding-bottom: 0.4em;background-color: white;}#sk-container-id-10 div.sk-label label {font-family: monospace;font-weight: bold;display: inline-block;line-height: 1.2em;}#sk-container-id-10 div.sk-label-container {text-align: center;}#sk-container-id-10 div.sk-container {/* jupyter's `normalize.less` sets `[hidden] { display: none; }` but bootstrap.min.css set `[hidden] { display: none !important; }` so we also need the `!important` here to be able to override the default hidden behavior on the sphinx rendered scikit-learn.org. See: https://github.com/scikit-learn/scikit-learn/issues/21755 */display: inline-block !important;position: relative;}#sk-container-id-10 div.sk-text-repr-fallback {display: none;}</style><div id=\"sk-container-id-10\" class=\"sk-top-container\"><div class=\"sk-text-repr-fallback\"><pre>RandomForestClassifier()</pre><b>In a Jupyter environment, please rerun this cell to show the HTML representation or trust the notebook. <br />On GitHub, the HTML representation is unable to render, please try loading this page with nbviewer.org.</b></div><div class=\"sk-container\" hidden><div class=\"sk-item\"><div class=\"sk-estimator sk-toggleable\"><input class=\"sk-toggleable__control sk-hidden--visually\" id=\"sk-estimator-id-10\" type=\"checkbox\" checked><label for=\"sk-estimator-id-10\" class=\"sk-toggleable__label sk-toggleable__label-arrow\">RandomForestClassifier</label><div class=\"sk-toggleable__content\"><pre>RandomForestClassifier()</pre></div></div></div></div></div>"
            ]
          },
          "metadata": {},
          "execution_count": 118
        }
      ]
    },
    {
      "cell_type": "code",
      "source": [
        "rf_acc=rf.score(X_train,Y_train)\n",
        "print('training accuracy',rf_acc)"
      ],
      "metadata": {
        "colab": {
          "base_uri": "https://localhost:8080/"
        },
        "id": "fPvB1ScFkPpi",
        "outputId": "01410691-d58e-4024-a9f8-31e1efa6a14c"
      },
      "execution_count": 119,
      "outputs": [
        {
          "output_type": "stream",
          "name": "stdout",
          "text": [
            "training accuracy 1.0\n"
          ]
        }
      ]
    },
    {
      "cell_type": "code",
      "source": [
        "rf_acc=rf.score(sst.transform(X),Y)\n",
        "print('testing accuracy',rf_acc)"
      ],
      "metadata": {
        "colab": {
          "base_uri": "https://localhost:8080/"
        },
        "id": "2SL3p_gdkX8t",
        "outputId": "029b59df-a8ef-41d4-ea36-4138651f6d8f"
      },
      "execution_count": 120,
      "outputs": [
        {
          "output_type": "stream",
          "name": "stdout",
          "text": [
            "testing accuracy 0.9644859813084112\n"
          ]
        }
      ]
    },
    {
      "cell_type": "markdown",
      "source": [
        "Deployment"
      ],
      "metadata": {
        "id": "3i6KvHgekuHW"
      }
    },
    {
      "cell_type": "code",
      "source": [
        "df.head()"
      ],
      "metadata": {
        "colab": {
          "base_uri": "https://localhost:8080/",
          "height": 206
        },
        "id": "tRfrUKNuk2li",
        "outputId": "7e116b28-c392-4914-aabe-cbb8c49516d3"
      },
      "execution_count": 121,
      "outputs": [
        {
          "output_type": "execute_result",
          "data": {
            "text/plain": [
              "   Married  Dependents  Education  Self_Employed  ApplicantIncome  \\\n",
              "0        0           0          0              0             5849   \n",
              "1        1           1          0              0             4583   \n",
              "2        1           0          0              1             3000   \n",
              "3        1           0          1              0             2583   \n",
              "4        0           0          0              0             6000   \n",
              "\n",
              "   CoapplicantIncome  LoanAmount  Loan_Amount_Term  Credit_History  \\\n",
              "0                0.0       146.0             360.0             1.0   \n",
              "1             1508.0       128.0             360.0             1.0   \n",
              "2                0.0        66.0             360.0             1.0   \n",
              "3             2358.0       120.0             360.0             1.0   \n",
              "4                0.0       141.0             360.0             1.0   \n",
              "\n",
              "   Property_Area  Loan_Status  \n",
              "0              2            1  \n",
              "1              0            0  \n",
              "2              2            1  \n",
              "3              2            1  \n",
              "4              2            1  "
            ],
            "text/html": [
              "\n",
              "  <div id=\"df-ec275739-32f9-464a-8ddb-d71527e60a3a\">\n",
              "    <div class=\"colab-df-container\">\n",
              "      <div>\n",
              "<style scoped>\n",
              "    .dataframe tbody tr th:only-of-type {\n",
              "        vertical-align: middle;\n",
              "    }\n",
              "\n",
              "    .dataframe tbody tr th {\n",
              "        vertical-align: top;\n",
              "    }\n",
              "\n",
              "    .dataframe thead th {\n",
              "        text-align: right;\n",
              "    }\n",
              "</style>\n",
              "<table border=\"1\" class=\"dataframe\">\n",
              "  <thead>\n",
              "    <tr style=\"text-align: right;\">\n",
              "      <th></th>\n",
              "      <th>Married</th>\n",
              "      <th>Dependents</th>\n",
              "      <th>Education</th>\n",
              "      <th>Self_Employed</th>\n",
              "      <th>ApplicantIncome</th>\n",
              "      <th>CoapplicantIncome</th>\n",
              "      <th>LoanAmount</th>\n",
              "      <th>Loan_Amount_Term</th>\n",
              "      <th>Credit_History</th>\n",
              "      <th>Property_Area</th>\n",
              "      <th>Loan_Status</th>\n",
              "    </tr>\n",
              "  </thead>\n",
              "  <tbody>\n",
              "    <tr>\n",
              "      <th>0</th>\n",
              "      <td>0</td>\n",
              "      <td>0</td>\n",
              "      <td>0</td>\n",
              "      <td>0</td>\n",
              "      <td>5849</td>\n",
              "      <td>0.0</td>\n",
              "      <td>146.0</td>\n",
              "      <td>360.0</td>\n",
              "      <td>1.0</td>\n",
              "      <td>2</td>\n",
              "      <td>1</td>\n",
              "    </tr>\n",
              "    <tr>\n",
              "      <th>1</th>\n",
              "      <td>1</td>\n",
              "      <td>1</td>\n",
              "      <td>0</td>\n",
              "      <td>0</td>\n",
              "      <td>4583</td>\n",
              "      <td>1508.0</td>\n",
              "      <td>128.0</td>\n",
              "      <td>360.0</td>\n",
              "      <td>1.0</td>\n",
              "      <td>0</td>\n",
              "      <td>0</td>\n",
              "    </tr>\n",
              "    <tr>\n",
              "      <th>2</th>\n",
              "      <td>1</td>\n",
              "      <td>0</td>\n",
              "      <td>0</td>\n",
              "      <td>1</td>\n",
              "      <td>3000</td>\n",
              "      <td>0.0</td>\n",
              "      <td>66.0</td>\n",
              "      <td>360.0</td>\n",
              "      <td>1.0</td>\n",
              "      <td>2</td>\n",
              "      <td>1</td>\n",
              "    </tr>\n",
              "    <tr>\n",
              "      <th>3</th>\n",
              "      <td>1</td>\n",
              "      <td>0</td>\n",
              "      <td>1</td>\n",
              "      <td>0</td>\n",
              "      <td>2583</td>\n",
              "      <td>2358.0</td>\n",
              "      <td>120.0</td>\n",
              "      <td>360.0</td>\n",
              "      <td>1.0</td>\n",
              "      <td>2</td>\n",
              "      <td>1</td>\n",
              "    </tr>\n",
              "    <tr>\n",
              "      <th>4</th>\n",
              "      <td>0</td>\n",
              "      <td>0</td>\n",
              "      <td>0</td>\n",
              "      <td>0</td>\n",
              "      <td>6000</td>\n",
              "      <td>0.0</td>\n",
              "      <td>141.0</td>\n",
              "      <td>360.0</td>\n",
              "      <td>1.0</td>\n",
              "      <td>2</td>\n",
              "      <td>1</td>\n",
              "    </tr>\n",
              "  </tbody>\n",
              "</table>\n",
              "</div>\n",
              "      <button class=\"colab-df-convert\" onclick=\"convertToInteractive('df-ec275739-32f9-464a-8ddb-d71527e60a3a')\"\n",
              "              title=\"Convert this dataframe to an interactive table.\"\n",
              "              style=\"display:none;\">\n",
              "        \n",
              "  <svg xmlns=\"http://www.w3.org/2000/svg\" height=\"24px\"viewBox=\"0 0 24 24\"\n",
              "       width=\"24px\">\n",
              "    <path d=\"M0 0h24v24H0V0z\" fill=\"none\"/>\n",
              "    <path d=\"M18.56 5.44l.94 2.06.94-2.06 2.06-.94-2.06-.94-.94-2.06-.94 2.06-2.06.94zm-11 1L8.5 8.5l.94-2.06 2.06-.94-2.06-.94L8.5 2.5l-.94 2.06-2.06.94zm10 10l.94 2.06.94-2.06 2.06-.94-2.06-.94-.94-2.06-.94 2.06-2.06.94z\"/><path d=\"M17.41 7.96l-1.37-1.37c-.4-.4-.92-.59-1.43-.59-.52 0-1.04.2-1.43.59L10.3 9.45l-7.72 7.72c-.78.78-.78 2.05 0 2.83L4 21.41c.39.39.9.59 1.41.59.51 0 1.02-.2 1.41-.59l7.78-7.78 2.81-2.81c.8-.78.8-2.07 0-2.86zM5.41 20L4 18.59l7.72-7.72 1.47 1.35L5.41 20z\"/>\n",
              "  </svg>\n",
              "      </button>\n",
              "      \n",
              "  <style>\n",
              "    .colab-df-container {\n",
              "      display:flex;\n",
              "      flex-wrap:wrap;\n",
              "      gap: 12px;\n",
              "    }\n",
              "\n",
              "    .colab-df-convert {\n",
              "      background-color: #E8F0FE;\n",
              "      border: none;\n",
              "      border-radius: 50%;\n",
              "      cursor: pointer;\n",
              "      display: none;\n",
              "      fill: #1967D2;\n",
              "      height: 32px;\n",
              "      padding: 0 0 0 0;\n",
              "      width: 32px;\n",
              "    }\n",
              "\n",
              "    .colab-df-convert:hover {\n",
              "      background-color: #E2EBFA;\n",
              "      box-shadow: 0px 1px 2px rgba(60, 64, 67, 0.3), 0px 1px 3px 1px rgba(60, 64, 67, 0.15);\n",
              "      fill: #174EA6;\n",
              "    }\n",
              "\n",
              "    [theme=dark] .colab-df-convert {\n",
              "      background-color: #3B4455;\n",
              "      fill: #D2E3FC;\n",
              "    }\n",
              "\n",
              "    [theme=dark] .colab-df-convert:hover {\n",
              "      background-color: #434B5C;\n",
              "      box-shadow: 0px 1px 3px 1px rgba(0, 0, 0, 0.15);\n",
              "      filter: drop-shadow(0px 1px 2px rgba(0, 0, 0, 0.3));\n",
              "      fill: #FFFFFF;\n",
              "    }\n",
              "  </style>\n",
              "\n",
              "      <script>\n",
              "        const buttonEl =\n",
              "          document.querySelector('#df-ec275739-32f9-464a-8ddb-d71527e60a3a button.colab-df-convert');\n",
              "        buttonEl.style.display =\n",
              "          google.colab.kernel.accessAllowed ? 'block' : 'none';\n",
              "\n",
              "        async function convertToInteractive(key) {\n",
              "          const element = document.querySelector('#df-ec275739-32f9-464a-8ddb-d71527e60a3a');\n",
              "          const dataTable =\n",
              "            await google.colab.kernel.invokeFunction('convertToInteractive',\n",
              "                                                     [key], {});\n",
              "          if (!dataTable) return;\n",
              "\n",
              "          const docLinkHtml = 'Like what you see? Visit the ' +\n",
              "            '<a target=\"_blank\" href=https://colab.research.google.com/notebooks/data_table.ipynb>data table notebook</a>'\n",
              "            + ' to learn more about interactive tables.';\n",
              "          element.innerHTML = '';\n",
              "          dataTable['output_type'] = 'display_data';\n",
              "          await google.colab.output.renderOutput(dataTable, element);\n",
              "          const docLink = document.createElement('div');\n",
              "          docLink.innerHTML = docLinkHtml;\n",
              "          element.appendChild(docLink);\n",
              "        }\n",
              "      </script>\n",
              "    </div>\n",
              "  </div>\n",
              "  "
            ]
          },
          "metadata": {},
          "execution_count": 121
        }
      ]
    },
    {
      "cell_type": "code",
      "source": [
        "Marr=input('Enter marital status if married:YES, if not :NO')\n",
        "Dependents=int(input('enter number of dependents in ur family'))\n",
        "Education=int(input('enter 1 if not graduated, enter 0 if graduated'))\n",
        "Self_Employed=int(input('enter 1 if employed, 0 if not'))\n",
        "Income=int(input('enter ur income'))\n",
        "coincome=int(input('enter co applicant income'))\n",
        "loan=int(input('enter loan amount in thousands'))\n",
        "loan_term=int(input('enter loan term in months'))\n",
        "cred_history=int(input('enter credit history'))\n",
        "prop_area=int(input('enter property area in acres'))\n",
        "Married=0\n",
        "if Marr=='YES':\n",
        "  Married=1\n",
        "else:\n",
        "  Married=0\n",
        "op=rf.predict(sst.transform([[Married,Dependents,Education,Self_Employed,Income,coincome,loan,loan_term,cred_history,prop_area]]))\n",
        "#print(op)\n",
        "if op==1:\n",
        "  print('Congrats you can apply for loan')\n",
        "else:\n",
        "  print('Sorry,You cant get loan')"
      ],
      "metadata": {
        "colab": {
          "base_uri": "https://localhost:8080/"
        },
        "id": "rwF6g1QfkiWG",
        "outputId": "eab9470a-a587-42e0-f16e-30859c684106"
      },
      "execution_count": 122,
      "outputs": [
        {
          "output_type": "stream",
          "name": "stdout",
          "text": [
            "Enter marital status if married:YES, if not :NONO\n",
            "enter number of dependents in ur family2\n",
            "enter 1 if not graduated, enter 0 if graduated0\n",
            "enter 1 if employed, 0 if not1\n",
            "enter ur income200000\n",
            "enter co applicant income20000\n",
            "enter loan amount100\n",
            "enter loan term360\n",
            "enter credit history1\n",
            "enter property area in acres20\n",
            "Congrats you can apply for loan\n"
          ]
        }
      ]
    },
    {
      "cell_type": "code",
      "source": [],
      "metadata": {
        "id": "Elwp9b7wn5pp"
      },
      "execution_count": 122,
      "outputs": []
    },
    {
      "cell_type": "code",
      "source": [],
      "metadata": {
        "id": "Xyx-COICocgz"
      },
      "execution_count": 122,
      "outputs": []
    }
  ]
}